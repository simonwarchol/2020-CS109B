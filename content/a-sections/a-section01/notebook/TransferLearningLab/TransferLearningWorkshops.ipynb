{
 "cells": [
  {
   "cell_type": "markdown",
   "metadata": {
    "colab_type": "text",
    "id": "wKuC9YnAQTfB"
   },
   "source": [
    "\n",
    "<h2 align=\"left\"> \n",
    "<img src=\"https://raw.githubusercontent.com/Harvard-IACS/2018-CS109A/master/content/styles/iacs.png\" width=\"50\">\n",
    "</h2>   \n",
    "\n",
    "\n",
    "## [**IACS: ComputeFest 2020**](https://www.computefest.seas.harvard.edu/)\n",
    "\n",
    "#### **Authors/Instructors:**\n",
    "  Pavlos Protopapas,   Marios Mattheakis, Robbert Struyven,  Camilo Fosco, Vincent Casser\n",
    "\n",
    "\n",
    "\n",
    "------------\n",
    "\n",
    "\n",
    "# **Workshop 1 Transfer Learning** \n",
    "\n",
    "## How to use existing models for transfer learning \n",
    "\n",
    "------------\n",
    "\n",
    "Welcome to day 2 of ComputeFest 2020! In this workshop, we will explore and play around with the common applications of transfer learning. Transfer learning can be used to improve performance on small datasets, across tasks, and even to recognize and properly process unseen examples.\n",
    "The flow of the workshop is as follows:\n",
    "\n",
    "1. **The basics of transfer learning**\n",
    "\n",
    "2. Transfer learning from classification to segmentation\n",
    "\n",
    "3. Transfer learning through distillation\n",
    "\n",
    "\n",
    "## **Goal of the Lab 1**\n",
    "\n",
    "- Learn the idea of transfer learning through a simple classification example\n",
    "- Build  new networks by using pre-trained models. Combine  pre-trained layers with new untrained layers and train specific layers.\n",
    "- Get good performance in image classification and  feature extraction with training in small datasets.  \n",
    "\n",
    "## **Structure**\n",
    "\n",
    "0.  Setup\n",
    "\n",
    "1. Problem Statement\n",
    "  \n",
    "  1.1 Performance of the pre-trained  *mobileNet*  \n",
    "      - Different performance for different categories  \n",
    "\n",
    "  1.2 Train the mobileNet from scratch (`mobile_from_scratch`)\n",
    "\n",
    "2. Transfer Learning to the rescue\n",
    "\n",
    "  2.1 Inspect the extracted features from the pre-trained mobileNet\n",
    "\n",
    "  2.2 Add and train a new dense layer on top of the pre-trained mobileNet (`mobile_1_layer`)\n",
    "\n",
    "  2.3 Re-train the last-2 layers of the pre-trained mobileNet (`mobile_2_layers`)\n",
    "\n",
    "  2.4 Re-train all layers of pre-trained mobileNet \n",
    "(`mobile_all_layers`)\n",
    "\n",
    "  2.5 Fine-tuning of the pre-trained mobileNet (`mobile_tuned`)\n",
    "\n",
    "----------\n"
   ]
  },
  {
   "cell_type": "markdown",
   "metadata": {
    "colab_type": "text",
    "id": "KFuWR8KKoYbF"
   },
   "source": [
    "# **0. Setup**\n",
    "\n",
    "Setup the workspace. Connect the colab with the google drive.\n",
    "\n"
   ]
  },
  {
   "cell_type": "code",
   "execution_count": null,
   "metadata": {
    "colab": {
     "base_uri": "https://localhost:8080/",
     "height": 122
    },
    "colab_type": "code",
    "executionInfo": {
     "elapsed": 35478,
     "status": "ok",
     "timestamp": 1579709340096,
     "user": {
      "displayName": "Alexandra Dumitriu",
      "photoUrl": "",
      "userId": "05284431433817975591"
     },
     "user_tz": 300
    },
    "id": "qyWizQJ7nhw1",
    "outputId": "001d97bc-1be7-4673-87b7-029a09eca3c9"
   },
   "outputs": [],
   "source": []
  },
  {
   "cell_type": "markdown",
   "metadata": {
    "colab_type": "text",
    "id": "WSiXtiePuRxJ"
   },
   "source": [
    "**Please make sure that you have loaded the data in your drive**"
   ]
  },
  {
   "cell_type": "markdown",
   "metadata": {
    "colab_type": "text",
    "id": "6GY6FPGytyhw"
   },
   "source": [
    "![alt text](https://i.imgur.com/bxdBm9r.png)"
   ]
  },
  {
   "cell_type": "markdown",
   "metadata": {
    "colab_type": "text",
    "id": "2Tm5GdbjD572"
   },
   "source": [
    "Import the packages and confirm that you import version 2 of tensorflow "
   ]
  },
  {
   "cell_type": "code",
   "execution_count": 12,
   "metadata": {
    "colab": {
     "base_uri": "https://localhost:8080/",
     "height": 51
    },
    "colab_type": "code",
    "executionInfo": {
     "elapsed": 9199,
     "status": "ok",
     "timestamp": 1579709452742,
     "user": {
      "displayName": "Alexandra Dumitriu",
      "photoUrl": "",
      "userId": "05284431433817975591"
     },
     "user_tz": 300
    },
    "id": "k9cTztTfsg0O",
    "outputId": "92afa69f-446f-4cb1-f5fb-443bb7e0448b"
   },
   "outputs": [
    {
     "name": "stderr",
     "output_type": "stream",
     "text": [
      "UsageError: Line magic function `%tensorflow_version` not found.\n"
     ]
    }
   ],
   "source": [
    "import numpy as np\n",
    "from sklearn.decomposition import PCA\n",
    "import matplotlib\n",
    "import matplotlib.pyplot as plt\n",
    "import os\n",
    "\n",
    "# Import the TF V2 through this magic command\n",
    "%tensorflow_version 2.x\n",
    "\n",
    "import tensorflow as tf\n",
    "import tensorflow.keras\n",
    "from tensorflow.keras import backend as K\n",
    "from PIL import Image\n",
    "\n",
    "# Check the Version of the Tensor Flow. It should be the version 2\n",
    "print(tf.__version__)"
   ]
  },
  {
   "cell_type": "markdown",
   "metadata": {
    "colab_type": "text",
    "id": "zjoNzdvjEJ2J"
   },
   "source": [
    "If we have version 2 of TF we proceed by importing Keras and necessary packages"
   ]
  },
  {
   "cell_type": "code",
   "execution_count": 13,
   "metadata": {
    "colab": {
     "base_uri": "https://localhost:8080/",
     "height": 34
    },
    "colab_type": "code",
    "executionInfo": {
     "elapsed": 450,
     "status": "ok",
     "timestamp": 1579709460635,
     "user": {
      "displayName": "Alexandra Dumitriu",
      "photoUrl": "",
      "userId": "05284431433817975591"
     },
     "user_tz": 300
    },
    "id": "-w0A4FMO0sl0",
    "outputId": "fc01677c-9a0c-44cd-d066-00214f1345c9"
   },
   "outputs": [],
   "source": [
    "import keras\n",
    "from tensorflow.keras import backend as K\n",
    "from tensorflow.keras.optimizers import Adam\n",
    "from tensorflow.keras.metrics import categorical_crossentropy\n",
    "from tensorflow.keras.preprocessing.image import ImageDataGenerator\n",
    "from tensorflow.keras.preprocessing import image\n",
    "from tensorflow.keras.models import Model\n",
    "from tensorflow.keras.applications import imagenet_utils\n",
    "from tensorflow.keras.layers import Dense,GlobalAveragePooling2D\n",
    "from tensorflow.keras.applications import MobileNet\n",
    "from tensorflow.keras.applications.mobilenet import preprocess_input\n",
    "from IPython.display import Image\n",
    "from tensorflow.keras.optimizers import Adam"
   ]
  },
  {
   "cell_type": "markdown",
   "metadata": {
    "colab_type": "text",
    "id": "Z-DNLzEgixpc"
   },
   "source": [
    "Colab allows us to use shell commands in the drive directories, such as \"ls\""
   ]
  },
  {
   "cell_type": "code",
   "execution_count": 14,
   "metadata": {
    "colab": {
     "base_uri": "https://localhost:8080/",
     "height": 34
    },
    "colab_type": "code",
    "executionInfo": {
     "elapsed": 2069,
     "status": "ok",
     "timestamp": 1579709467718,
     "user": {
      "displayName": "Alexandra Dumitriu",
      "photoUrl": "",
      "userId": "05284431433817975591"
     },
     "user_tz": 300
    },
    "id": "4OmMs0ULZsS_",
    "outputId": "b27dd1ae-d4ee-434b-d2fd-568369fd6d7f"
   },
   "outputs": [
    {
     "name": "stdout",
     "output_type": "stream",
     "text": [
      "ls: cannot access 'drive/My Drive/TransferLearningLab/': No such file or directory\r\n"
     ]
    }
   ],
   "source": [
    "ls  drive/My\\ Drive/TransferLearningLab/"
   ]
  },
  {
   "cell_type": "markdown",
   "metadata": {
    "colab_type": "text",
    "id": "j6nTCfFdPodf"
   },
   "source": [
    "Set the main path for the **working directory**\n"
   ]
  },
  {
   "cell_type": "code",
   "execution_count": 15,
   "metadata": {
    "colab": {},
    "colab_type": "code",
    "id": "g2yIp5S4PtgJ"
   },
   "outputs": [],
   "source": [
    "pathFolder = 'data_Lab1/'"
   ]
  },
  {
   "cell_type": "markdown",
   "metadata": {
    "colab_type": "text",
    "id": "1k5j9daWiqNO"
   },
   "source": [
    "Explore your dataset (images)"
   ]
  },
  {
   "cell_type": "code",
   "execution_count": 16,
   "metadata": {
    "colab": {
     "base_uri": "https://localhost:8080/",
     "height": 479
    },
    "colab_type": "code",
    "executionInfo": {
     "elapsed": 1760,
     "status": "ok",
     "timestamp": 1579709481888,
     "user": {
      "displayName": "Alexandra Dumitriu",
      "photoUrl": "",
      "userId": "05284431433817975591"
     },
     "user_tz": 300
    },
    "id": "Osd1qW4c9ZQR",
    "outputId": "9c409642-4f46-45bc-c88b-cf35a2406236"
   },
   "outputs": [
    {
     "data": {
      "image/jpeg": "[encoded data removed]",
      "text/plain": [
       "<IPython.core.display.Image object>"
      ]
     },
     "execution_count": 16,
     "metadata": {},
     "output_type": "execute_result"
    }
   ],
   "source": [
    "# Image(filename= pathFolder + 'misc_images/German_Shepherd.jpg')\n",
    "# Image(filename= pathFolder + 'misc_images/blue_tit.jpg')\n",
    "Image(filename= pathFolder + 'misc_images/avocado_2.jpg')"
   ]
  },
  {
   "cell_type": "markdown",
   "metadata": {
    "colab_type": "text",
    "id": "LkYlDMku-V7T"
   },
   "source": [
    "-----------\n",
    "\n",
    "# **1. Problem Statement**\n",
    "\n",
    "The task of this Lab is to design a network for classifying and extracting features for three different categories:  dogs, birds, and fruits. \n",
    "\n",
    "Building a new network for each problem is extremely time consuming:\n",
    "- It needs a lot of effort to optimize the architecture of a network\n",
    "- For different datasets (e.g. size and type of data) we might need different architectures\n",
    "- It is difficult to train a network with small datasets\n",
    "\n",
    "Remedy: Transfer Learning and the use of pre-trained models:\n",
    "- Here we use MobileNet which is trained in 1000 categories with 1000 images per category.\n",
    "- This pre-trained model classifies 1000 categories pretty well. But, what if we are interested in some new categories? \n",
    "- Pre-trained Mobilenet classifies images and extracts features quite well. In some classes performs better than others. But, what if we are interested in the others? \n"
   ]
  },
  {
   "cell_type": "markdown",
   "metadata": {
    "colab_type": "text",
    "id": "r0hwLVI4lBSa"
   },
   "source": [
    "\n",
    "## **1.1 Performance of pre-trained MobileNet in  different categories.**\n",
    "\n",
    "Inspect the performance of the pre-trained mobileNet in new data. It shows different performance for different categories.\n",
    "\n",
    "Loading the pre-trained MobileNet network"
   ]
  },
  {
   "cell_type": "code",
   "execution_count": 17,
   "metadata": {
    "colab": {
     "base_uri": "https://localhost:8080/",
     "height": 51
    },
    "colab_type": "code",
    "executionInfo": {
     "elapsed": 9946,
     "status": "ok",
     "timestamp": 1579709500372,
     "user": {
      "displayName": "Alexandra Dumitriu",
      "photoUrl": "",
      "userId": "05284431433817975591"
     },
     "user_tz": 300
    },
    "id": "ZfMEvASn0_Gq",
    "outputId": "594b862c-f605-4f6b-c647-4b726fda0c4e"
   },
   "outputs": [],
   "source": [
    "# Choose the weights pretrained in the imagenet dataset\n",
    "import tensorflow as tf\n",
    "\n",
    "mobile = tf.keras.applications.mobilenet.MobileNet(weights='imagenet')"
   ]
  },
  {
   "cell_type": "markdown",
   "metadata": {
    "colab_type": "text",
    "id": "T-7tQVF6vOSw"
   },
   "source": [
    "Inspect the Mobilenet and define the input shape"
   ]
  },
  {
   "cell_type": "code",
   "execution_count": 18,
   "metadata": {
    "colab": {
     "base_uri": "https://localhost:8080/",
     "height": 1000
    },
    "colab_type": "code",
    "executionInfo": {
     "elapsed": 318,
     "status": "ok",
     "timestamp": 1579709506122,
     "user": {
      "displayName": "Alexandra Dumitriu",
      "photoUrl": "",
      "userId": "05284431433817975591"
     },
     "user_tz": 300
    },
    "id": "afTmlXhRdzaP",
    "outputId": "6f641cd7-2dc7-4ecb-d75c-1254d88f9117"
   },
   "outputs": [
    {
     "name": "stdout",
     "output_type": "stream",
     "text": [
      "Model: \"mobilenet_1.00_224\"\n",
      "_________________________________________________________________\n",
      "Layer (type)                 Output Shape              Param #   \n",
      "=================================================================\n",
      "input_1 (InputLayer)         [(None, 224, 224, 3)]     0         \n",
      "_________________________________________________________________\n",
      "conv1_pad (ZeroPadding2D)    (None, 225, 225, 3)       0         \n",
      "_________________________________________________________________\n",
      "conv1 (Conv2D)               (None, 112, 112, 32)      864       \n",
      "_________________________________________________________________\n",
      "conv1_bn (BatchNormalization (None, 112, 112, 32)      128       \n",
      "_________________________________________________________________\n",
      "conv1_relu (ReLU)            (None, 112, 112, 32)      0         \n",
      "_________________________________________________________________\n",
      "conv_dw_1 (DepthwiseConv2D)  (None, 112, 112, 32)      288       \n",
      "_________________________________________________________________\n",
      "conv_dw_1_bn (BatchNormaliza (None, 112, 112, 32)      128       \n",
      "_________________________________________________________________\n",
      "conv_dw_1_relu (ReLU)        (None, 112, 112, 32)      0         \n",
      "_________________________________________________________________\n",
      "conv_pw_1 (Conv2D)           (None, 112, 112, 64)      2048      \n",
      "_________________________________________________________________\n",
      "conv_pw_1_bn (BatchNormaliza (None, 112, 112, 64)      256       \n",
      "_________________________________________________________________\n",
      "conv_pw_1_relu (ReLU)        (None, 112, 112, 64)      0         \n",
      "_________________________________________________________________\n",
      "conv_pad_2 (ZeroPadding2D)   (None, 113, 113, 64)      0         \n",
      "_________________________________________________________________\n",
      "conv_dw_2 (DepthwiseConv2D)  (None, 56, 56, 64)        576       \n",
      "_________________________________________________________________\n",
      "conv_dw_2_bn (BatchNormaliza (None, 56, 56, 64)        256       \n",
      "_________________________________________________________________\n",
      "conv_dw_2_relu (ReLU)        (None, 56, 56, 64)        0         \n",
      "_________________________________________________________________\n",
      "conv_pw_2 (Conv2D)           (None, 56, 56, 128)       8192      \n",
      "_________________________________________________________________\n",
      "conv_pw_2_bn (BatchNormaliza (None, 56, 56, 128)       512       \n",
      "_________________________________________________________________\n",
      "conv_pw_2_relu (ReLU)        (None, 56, 56, 128)       0         \n",
      "_________________________________________________________________\n",
      "conv_dw_3 (DepthwiseConv2D)  (None, 56, 56, 128)       1152      \n",
      "_________________________________________________________________\n",
      "conv_dw_3_bn (BatchNormaliza (None, 56, 56, 128)       512       \n",
      "_________________________________________________________________\n",
      "conv_dw_3_relu (ReLU)        (None, 56, 56, 128)       0         \n",
      "_________________________________________________________________\n",
      "conv_pw_3 (Conv2D)           (None, 56, 56, 128)       16384     \n",
      "_________________________________________________________________\n",
      "conv_pw_3_bn (BatchNormaliza (None, 56, 56, 128)       512       \n",
      "_________________________________________________________________\n",
      "conv_pw_3_relu (ReLU)        (None, 56, 56, 128)       0         \n",
      "_________________________________________________________________\n",
      "conv_pad_4 (ZeroPadding2D)   (None, 57, 57, 128)       0         \n",
      "_________________________________________________________________\n",
      "conv_dw_4 (DepthwiseConv2D)  (None, 28, 28, 128)       1152      \n",
      "_________________________________________________________________\n",
      "conv_dw_4_bn (BatchNormaliza (None, 28, 28, 128)       512       \n",
      "_________________________________________________________________\n",
      "conv_dw_4_relu (ReLU)        (None, 28, 28, 128)       0         \n",
      "_________________________________________________________________\n",
      "conv_pw_4 (Conv2D)           (None, 28, 28, 256)       32768     \n",
      "_________________________________________________________________\n",
      "conv_pw_4_bn (BatchNormaliza (None, 28, 28, 256)       1024      \n",
      "_________________________________________________________________\n",
      "conv_pw_4_relu (ReLU)        (None, 28, 28, 256)       0         \n",
      "_________________________________________________________________\n",
      "conv_dw_5 (DepthwiseConv2D)  (None, 28, 28, 256)       2304      \n",
      "_________________________________________________________________\n",
      "conv_dw_5_bn (BatchNormaliza (None, 28, 28, 256)       1024      \n",
      "_________________________________________________________________\n",
      "conv_dw_5_relu (ReLU)        (None, 28, 28, 256)       0         \n",
      "_________________________________________________________________\n",
      "conv_pw_5 (Conv2D)           (None, 28, 28, 256)       65536     \n",
      "_________________________________________________________________\n",
      "conv_pw_5_bn (BatchNormaliza (None, 28, 28, 256)       1024      \n",
      "_________________________________________________________________\n",
      "conv_pw_5_relu (ReLU)        (None, 28, 28, 256)       0         \n",
      "_________________________________________________________________\n",
      "conv_pad_6 (ZeroPadding2D)   (None, 29, 29, 256)       0         \n",
      "_________________________________________________________________\n",
      "conv_dw_6 (DepthwiseConv2D)  (None, 14, 14, 256)       2304      \n",
      "_________________________________________________________________\n",
      "conv_dw_6_bn (BatchNormaliza (None, 14, 14, 256)       1024      \n",
      "_________________________________________________________________\n",
      "conv_dw_6_relu (ReLU)        (None, 14, 14, 256)       0         \n",
      "_________________________________________________________________\n",
      "conv_pw_6 (Conv2D)           (None, 14, 14, 512)       131072    \n",
      "_________________________________________________________________\n",
      "conv_pw_6_bn (BatchNormaliza (None, 14, 14, 512)       2048      \n",
      "_________________________________________________________________\n",
      "conv_pw_6_relu (ReLU)        (None, 14, 14, 512)       0         \n",
      "_________________________________________________________________\n",
      "conv_dw_7 (DepthwiseConv2D)  (None, 14, 14, 512)       4608      \n",
      "_________________________________________________________________\n",
      "conv_dw_7_bn (BatchNormaliza (None, 14, 14, 512)       2048      \n",
      "_________________________________________________________________\n",
      "conv_dw_7_relu (ReLU)        (None, 14, 14, 512)       0         \n",
      "_________________________________________________________________\n",
      "conv_pw_7 (Conv2D)           (None, 14, 14, 512)       262144    \n",
      "_________________________________________________________________\n",
      "conv_pw_7_bn (BatchNormaliza (None, 14, 14, 512)       2048      \n",
      "_________________________________________________________________\n",
      "conv_pw_7_relu (ReLU)        (None, 14, 14, 512)       0         \n",
      "_________________________________________________________________\n",
      "conv_dw_8 (DepthwiseConv2D)  (None, 14, 14, 512)       4608      \n",
      "_________________________________________________________________\n",
      "conv_dw_8_bn (BatchNormaliza (None, 14, 14, 512)       2048      \n",
      "_________________________________________________________________\n",
      "conv_dw_8_relu (ReLU)        (None, 14, 14, 512)       0         \n",
      "_________________________________________________________________\n",
      "conv_pw_8 (Conv2D)           (None, 14, 14, 512)       262144    \n",
      "_________________________________________________________________\n",
      "conv_pw_8_bn (BatchNormaliza (None, 14, 14, 512)       2048      \n",
      "_________________________________________________________________\n",
      "conv_pw_8_relu (ReLU)        (None, 14, 14, 512)       0         \n",
      "_________________________________________________________________\n",
      "conv_dw_9 (DepthwiseConv2D)  (None, 14, 14, 512)       4608      \n",
      "_________________________________________________________________\n",
      "conv_dw_9_bn (BatchNormaliza (None, 14, 14, 512)       2048      \n",
      "_________________________________________________________________\n",
      "conv_dw_9_relu (ReLU)        (None, 14, 14, 512)       0         \n",
      "_________________________________________________________________\n",
      "conv_pw_9 (Conv2D)           (None, 14, 14, 512)       262144    \n",
      "_________________________________________________________________\n",
      "conv_pw_9_bn (BatchNormaliza (None, 14, 14, 512)       2048      \n",
      "_________________________________________________________________\n",
      "conv_pw_9_relu (ReLU)        (None, 14, 14, 512)       0         \n",
      "_________________________________________________________________\n",
      "conv_dw_10 (DepthwiseConv2D) (None, 14, 14, 512)       4608      \n",
      "_________________________________________________________________\n",
      "conv_dw_10_bn (BatchNormaliz (None, 14, 14, 512)       2048      \n",
      "_________________________________________________________________\n",
      "conv_dw_10_relu (ReLU)       (None, 14, 14, 512)       0         \n",
      "_________________________________________________________________\n",
      "conv_pw_10 (Conv2D)          (None, 14, 14, 512)       262144    \n",
      "_________________________________________________________________\n",
      "conv_pw_10_bn (BatchNormaliz (None, 14, 14, 512)       2048      \n",
      "_________________________________________________________________\n",
      "conv_pw_10_relu (ReLU)       (None, 14, 14, 512)       0         \n",
      "_________________________________________________________________\n",
      "conv_dw_11 (DepthwiseConv2D) (None, 14, 14, 512)       4608      \n",
      "_________________________________________________________________\n",
      "conv_dw_11_bn (BatchNormaliz (None, 14, 14, 512)       2048      \n",
      "_________________________________________________________________\n",
      "conv_dw_11_relu (ReLU)       (None, 14, 14, 512)       0         \n",
      "_________________________________________________________________\n",
      "conv_pw_11 (Conv2D)          (None, 14, 14, 512)       262144    \n",
      "_________________________________________________________________\n",
      "conv_pw_11_bn (BatchNormaliz (None, 14, 14, 512)       2048      \n",
      "_________________________________________________________________\n",
      "conv_pw_11_relu (ReLU)       (None, 14, 14, 512)       0         \n",
      "_________________________________________________________________\n",
      "conv_pad_12 (ZeroPadding2D)  (None, 15, 15, 512)       0         \n",
      "_________________________________________________________________\n",
      "conv_dw_12 (DepthwiseConv2D) (None, 7, 7, 512)         4608      \n",
      "_________________________________________________________________\n",
      "conv_dw_12_bn (BatchNormaliz (None, 7, 7, 512)         2048      \n",
      "_________________________________________________________________\n",
      "conv_dw_12_relu (ReLU)       (None, 7, 7, 512)         0         \n",
      "_________________________________________________________________\n",
      "conv_pw_12 (Conv2D)          (None, 7, 7, 1024)        524288    \n",
      "_________________________________________________________________\n",
      "conv_pw_12_bn (BatchNormaliz (None, 7, 7, 1024)        4096      \n",
      "_________________________________________________________________\n",
      "conv_pw_12_relu (ReLU)       (None, 7, 7, 1024)        0         \n",
      "_________________________________________________________________\n",
      "conv_dw_13 (DepthwiseConv2D) (None, 7, 7, 1024)        9216      \n",
      "_________________________________________________________________\n",
      "conv_dw_13_bn (BatchNormaliz (None, 7, 7, 1024)        4096      \n",
      "_________________________________________________________________\n",
      "conv_dw_13_relu (ReLU)       (None, 7, 7, 1024)        0         \n",
      "_________________________________________________________________\n",
      "conv_pw_13 (Conv2D)          (None, 7, 7, 1024)        1048576   \n",
      "_________________________________________________________________\n",
      "conv_pw_13_bn (BatchNormaliz (None, 7, 7, 1024)        4096      \n",
      "_________________________________________________________________\n",
      "conv_pw_13_relu (ReLU)       (None, 7, 7, 1024)        0         \n",
      "_________________________________________________________________\n",
      "global_average_pooling2d (Gl (None, 1024)              0         \n",
      "_________________________________________________________________\n",
      "reshape_1 (Reshape)          (None, 1, 1, 1024)        0         \n",
      "_________________________________________________________________\n",
      "dropout (Dropout)            (None, 1, 1, 1024)        0         \n",
      "_________________________________________________________________\n",
      "conv_preds (Conv2D)          (None, 1, 1, 1000)        1025000   \n",
      "_________________________________________________________________\n",
      "reshape_2 (Reshape)          (None, 1000)              0         \n",
      "_________________________________________________________________\n",
      "act_softmax (Activation)     (None, 1000)              0         \n",
      "=================================================================\n",
      "Total params: 4,253,864\n",
      "Trainable params: 4,231,976\n",
      "Non-trainable params: 21,888\n",
      "_________________________________________________________________\n"
     ]
    }
   ],
   "source": [
    "mobile.summary()"
   ]
  },
  {
   "cell_type": "code",
   "execution_count": 19,
   "metadata": {
    "colab": {},
    "colab_type": "code",
    "id": "d9p0EdtiuvfY"
   },
   "outputs": [],
   "source": [
    "IMG_SIZE  = 224\n",
    "IMG_SHAPE = (IMG_SIZE, IMG_SIZE, 3)"
   ]
  },
  {
   "cell_type": "markdown",
   "metadata": {
    "colab_type": "text",
    "id": "ZuXSp7KUAO2w"
   },
   "source": [
    "This function prepares the images for the MobileNet: input shape: (1, 224, 224, 3)"
   ]
  },
  {
   "cell_type": "code",
   "execution_count": null,
   "metadata": {
    "colab": {},
    "colab_type": "code",
    "id": "SS9pn-dZ4gLg"
   },
   "outputs": [],
   "source": [
    "def prepare_image(img_path, img_size = IMG_SIZE):\n",
    "    img = image.load_img(img_path, target_size=(img_size, img_size))\n",
    "    img_array = image.img_to_array(img)\n",
    "    img_array_expanded_dims = np.expand_dims(img_array, axis=0)\n",
    "    return keras.applications.mobilenet.preprocess_input(img_array_expanded_dims)"
   ]
  },
  {
   "cell_type": "markdown",
   "metadata": {
    "colab_type": "text",
    "id": "0tXnW5LJAZ-c"
   },
   "source": [
    "Let's make some predictions (classification) by using the pre-trained MobileNet"
   ]
  },
  {
   "cell_type": "code",
   "execution_count": null,
   "metadata": {
    "colab": {
     "base_uri": "https://localhost:8080/",
     "height": 204
    },
    "colab_type": "code",
    "executionInfo": {
     "elapsed": 7480,
     "status": "ok",
     "timestamp": 1579709569375,
     "user": {
      "displayName": "Alexandra Dumitriu",
      "photoUrl": "",
      "userId": "05284431433817975591"
     },
     "user_tz": 300
    },
    "id": "Tjohd1ttAWw0",
    "outputId": "39b9a72a-aed9-4421-a529-76ec11d5fbd2"
   },
   "outputs": [],
   "source": [
    "imagePath = pathFolder + 'misc_images/German_Shepherd.jpg'\n",
    "preprocessed_image = prepare_image(imagePath)\n",
    "\n",
    "# check the size that fits with MobilesNets\n",
    "print('Image shape: ',(preprocessed_image).shape,'\\n \\n Prediction:\\n ')\n",
    "\n",
    "# Use mobileNet to classify the image\n",
    "predictions = mobile.predict(preprocessed_image)\n",
    "results = imagenet_utils.decode_predictions(predictions)\n",
    "results"
   ]
  },
  {
   "cell_type": "markdown",
   "metadata": {
    "colab_type": "text",
    "id": "GdwV9CVOi1bh"
   },
   "source": [
    "It is convenient to define a function to do the classification"
   ]
  },
  {
   "cell_type": "code",
   "execution_count": null,
   "metadata": {
    "colab": {},
    "colab_type": "code",
    "id": "lNl38cWli0ge"
   },
   "outputs": [],
   "source": [
    "def myClassifier(imagePath, pathFolder=pathFolder, mobile=mobile):\n",
    "    imagePathFull = pathFolder + imagePath\n",
    "    preprocessed_image = prepare_image(imagePathFull)\n",
    "    # Use mobileNet to classify the image\n",
    "    predictions = mobile.predict(preprocessed_image)\n",
    "    results = imagenet_utils.decode_predictions(predictions)\n",
    "    return results"
   ]
  },
  {
   "cell_type": "code",
   "execution_count": null,
   "metadata": {
    "colab": {
     "base_uri": "https://localhost:8080/",
     "height": 102
    },
    "colab_type": "code",
    "executionInfo": {
     "elapsed": 915,
     "status": "ok",
     "timestamp": 1579709578169,
     "user": {
      "displayName": "Alexandra Dumitriu",
      "photoUrl": "",
      "userId": "05284431433817975591"
     },
     "user_tz": 300
    },
    "id": "37av15HPjYjx",
    "outputId": "1a3bb0cb-d794-477c-b3e5-02aa515396f6"
   },
   "outputs": [],
   "source": [
    "myClassifier('misc_images/labrador1.jpg')"
   ]
  },
  {
   "cell_type": "code",
   "execution_count": null,
   "metadata": {
    "colab": {
     "base_uri": "https://localhost:8080/",
     "height": 102
    },
    "colab_type": "code",
    "executionInfo": {
     "elapsed": 683,
     "status": "ok",
     "timestamp": 1579709581347,
     "user": {
      "displayName": "Alexandra Dumitriu",
      "photoUrl": "",
      "userId": "05284431433817975591"
     },
     "user_tz": 300
    },
    "id": "-WNtGQpPA_Lc",
    "outputId": "6a931553-1075-4873-a146-612386b07060"
   },
   "outputs": [],
   "source": [
    "myClassifier('misc_images/poodle1.jpg')"
   ]
  },
  {
   "cell_type": "markdown",
   "metadata": {
    "colab_type": "text",
    "id": "gIt1Pbn9AZNo"
   },
   "source": [
    "So, the pre-trained MobileNet classifies very well the **breed of dogs**.\n",
    "\n",
    "Let's try now to classify the **breed of birds**."
   ]
  },
  {
   "cell_type": "code",
   "execution_count": null,
   "metadata": {
    "colab": {
     "base_uri": "https://localhost:8080/",
     "height": 102
    },
    "colab_type": "code",
    "executionInfo": {
     "elapsed": 512,
     "status": "ok",
     "timestamp": 1579709595675,
     "user": {
      "displayName": "Alexandra Dumitriu",
      "photoUrl": "",
      "userId": "05284431433817975591"
     },
     "user_tz": 300
    },
    "id": "0aW0c8atBPqa",
    "outputId": "7120cc8c-5e7a-4905-a7d2-a53d62382f7b"
   },
   "outputs": [],
   "source": [
    "myClassifier('misc_images/blue_tit_1.jpg')\n",
    "# myClassifier('misc_images/blue_tit_2.jpg')"
   ]
  },
  {
   "cell_type": "code",
   "execution_count": null,
   "metadata": {
    "colab": {
     "base_uri": "https://localhost:8080/",
     "height": 102
    },
    "colab_type": "code",
    "executionInfo": {
     "elapsed": 2191,
     "status": "ok",
     "timestamp": 1579709603255,
     "user": {
      "displayName": "Alexandra Dumitriu",
      "photoUrl": "",
      "userId": "05284431433817975591"
     },
     "user_tz": 300
    },
    "id": "LK9R9NtvBeE5",
    "outputId": "7e17c125-53b7-4781-dfd6-69694027bcc8"
   },
   "outputs": [],
   "source": [
    "myClassifier('misc_images/crow_1.jpg')\n",
    "# myClassifier('misc_images/crow_2.jpg')"
   ]
  },
  {
   "cell_type": "code",
   "execution_count": null,
   "metadata": {
    "colab": {
     "base_uri": "https://localhost:8080/",
     "height": 102
    },
    "colab_type": "code",
    "executionInfo": {
     "elapsed": 1004,
     "status": "ok",
     "timestamp": 1579709609001,
     "user": {
      "displayName": "Alexandra Dumitriu",
      "photoUrl": "",
      "userId": "05284431433817975591"
     },
     "user_tz": 300
    },
    "id": "4VLGqP9XS1ru",
    "outputId": "5298ede4-c803-4d79-acc9-ed896ea022f0"
   },
   "outputs": [],
   "source": [
    "myClassifier('misc_images/hawk_1.jpg')\n",
    "# myClassifier('misc_images/hawk_2.jpg')"
   ]
  },
  {
   "cell_type": "markdown",
   "metadata": {
    "colab_type": "text",
    "id": "etglIqgLz_9j"
   },
   "source": [
    "What about **fruits**?"
   ]
  },
  {
   "cell_type": "code",
   "execution_count": null,
   "metadata": {
    "colab": {
     "base_uri": "https://localhost:8080/",
     "height": 102
    },
    "colab_type": "code",
    "executionInfo": {
     "elapsed": 616,
     "status": "ok",
     "timestamp": 1579709616651,
     "user": {
      "displayName": "Alexandra Dumitriu",
      "photoUrl": "",
      "userId": "05284431433817975591"
     },
     "user_tz": 300
    },
    "id": "OzIEX5L_xyZZ",
    "outputId": "75440c89-cc78-4d05-bbd7-a5550575c3a8"
   },
   "outputs": [],
   "source": [
    "myClassifier('misc_images/mango_1.jpg')\n",
    "#myClassifier('misc_images/mango_2.jpg')"
   ]
  },
  {
   "cell_type": "code",
   "execution_count": null,
   "metadata": {
    "colab": {},
    "colab_type": "code",
    "id": "CEe-gT1iNrNE"
   },
   "outputs": [],
   "source": [
    "# Image(filename= pathFolder + 'misc_images/avocado_2.jpg')"
   ]
  },
  {
   "cell_type": "code",
   "execution_count": null,
   "metadata": {
    "colab": {
     "base_uri": "https://localhost:8080/",
     "height": 102
    },
    "colab_type": "code",
    "executionInfo": {
     "elapsed": 671,
     "status": "ok",
     "timestamp": 1579709634581,
     "user": {
      "displayName": "Alexandra Dumitriu",
      "photoUrl": "",
      "userId": "05284431433817975591"
     },
     "user_tz": 300
    },
    "id": "UdItVUCyzg7y",
    "outputId": "6dee79b7-1935-4e84-8884-7f9e81027213"
   },
   "outputs": [],
   "source": [
    "myClassifier('misc_images/avocado_1.jpg')\n",
    "# myClassifier('misc_images/avocado_2.jpg')"
   ]
  },
  {
   "cell_type": "code",
   "execution_count": null,
   "metadata": {
    "colab": {
     "base_uri": "https://localhost:8080/",
     "height": 102
    },
    "colab_type": "code",
    "executionInfo": {
     "elapsed": 896,
     "status": "ok",
     "timestamp": 1579709641966,
     "user": {
      "displayName": "Alexandra Dumitriu",
      "photoUrl": "",
      "userId": "05284431433817975591"
     },
     "user_tz": 300
    },
    "id": "CVTMbHMJ0ZIJ",
    "outputId": "d2ffe55a-0045-47ba-dea6-ba11ce973d9e"
   },
   "outputs": [],
   "source": [
    "# myClassifier('misc_images/coconuts_1.jpg')\n",
    "myClassifier('misc_images/coconuts_2.jpg')\n"
   ]
  },
  {
   "cell_type": "markdown",
   "metadata": {
    "colab_type": "text",
    "id": "DRc73VWzVTSZ"
   },
   "source": [
    "### **How can we improve the mobileNet ?**"
   ]
  },
  {
   "cell_type": "markdown",
   "metadata": {
    "colab_type": "text",
    "id": "uDxwrcmpVdam"
   },
   "source": [
    "The pre-trained MobileNet architecture shows quite good performance. Nevertheless, we want to improve  its classification ability  on the classes of birds and fruits. Two possible ways to do that are:\n",
    "\n",
    "\n",
    "1.  Train the mobileNet from the scratch by using only images  for dogs, birds and fruits\n",
    "\n",
    "  - Training the MobileNet from the scratch will be overfitting because our dataset is too small and the network very expressive. \n",
    "\n",
    "2.   Use the pre-trained model a re-train just a few layers (fast and efficient).\n",
    "This is  a simple way to apply Transfer Learning methodology. \n",
    "\n",
    "  *  The convolution layers of the MobileNet can extract  abstract features from the images.  We can use (transfer) this knowledge by  keeping those pre-trained layers. \n",
    "  * We can adjust and train a few new layers to classify the new data from the extracted features\n",
    "\n",
    "\n",
    "\n",
    "<!-- As example,  we want to classify different breed of birds and fruits where the pre-trained mobileNet fails. \n",
    "* First, let's explore that the MobileNet indeed extract and learn abstract features\n",
    "* Then add a new dense fully connected layer (classifier) and train it. Try to add more dense layers.\n",
    "* Check the classification performance on the new task. Is it better than before?  -->\n",
    "\n",
    "\n",
    "\n"
   ]
  },
  {
   "cell_type": "markdown",
   "metadata": {
    "colab_type": "text",
    "id": "fOcIziz0xyIE"
   },
   "source": [
    "## **1.3 Train the mobileNet from the scratch (`mobile_from_scratch`)**\n"
   ]
  },
  {
   "cell_type": "markdown",
   "metadata": {
    "colab_type": "text",
    "id": "Lnu71yqp28OL"
   },
   "source": [
    "Load the data into the ImageDataGenerator\n",
    "\n",
    "We use data augmentation:\n",
    "\n",
    " https://machinelearningmastery.com/how-to-configure-image-data-augmentation-when-training-deep-learning-neural-networks/ \n"
   ]
  },
  {
   "cell_type": "code",
   "execution_count": null,
   "metadata": {
    "colab": {
     "base_uri": "https://localhost:8080/",
     "height": 51
    },
    "colab_type": "code",
    "executionInfo": {
     "elapsed": 2309,
     "status": "ok",
     "timestamp": 1579709654153,
     "user": {
      "displayName": "Alexandra Dumitriu",
      "photoUrl": "",
      "userId": "05284431433817975591"
     },
     "user_tz": 300
    },
    "id": "O6ginvzU2wfL",
    "outputId": "68255491-9a35-4019-fa04-8ae2c7f11627"
   },
   "outputs": [],
   "source": [
    "train_datagen=ImageDataGenerator(preprocessing_function=preprocess_input,\n",
    "                                                  horizontal_flip=True, \n",
    "                                                  rotation_range=45, \n",
    "                                                  zoom_range=[0.8,1.0]) \n",
    "\n",
    "test_datagen=ImageDataGenerator(preprocessing_function=preprocess_input) \n",
    "\n",
    "\n",
    "# Count the number of groups and make an array with their names\n",
    "\n",
    "# TRAINING set\n",
    "pathTrain = pathFolder + 'trainData/'\n",
    "listGroupsTrain = os.listdir(pathTrain) # the directory path\n",
    "\n",
    "# TESTING set\n",
    "pathTest = pathFolder + 'testData/'\n",
    "listGroupsTest = os.listdir(pathTest) # the directory path\n",
    "\n",
    "# Load the data into the ImageDataGenerator\n",
    "train_generator=train_datagen.flow_from_directory(pathFolder+'trainData',\n",
    "                                                 target_size=(224,224),\n",
    "                                                 color_mode='rgb',\n",
    "                                                 batch_size=64,\n",
    "                                                 class_mode='categorical',\n",
    "                                                 shuffle=True, \n",
    "                                                 classes=listGroupsTrain)\n",
    "                                                 \n",
    "test_generator=test_datagen.flow_from_directory(pathFolder+'testData',\n",
    "                                                 target_size=(224,224),\n",
    "                                                 color_mode='rgb',\n",
    "                                                 batch_size=64,\n",
    "                                                 class_mode='categorical',\n",
    "                                                 shuffle=False, \n",
    "                                                 classes=listGroupsTest)"
   ]
  },
  {
   "cell_type": "markdown",
   "metadata": {
    "colab_type": "text",
    "id": "bmXFjIJr3B1B"
   },
   "source": [
    "**Load and train the un-trained MobileNet**"
   ]
  },
  {
   "cell_type": "code",
   "execution_count": null,
   "metadata": {
    "colab": {},
    "colab_type": "code",
    "id": "6ueNW4c7xxUe"
   },
   "outputs": [],
   "source": [
    "# Loading the un-trained weights model\n",
    "mobile_from_scratch = tf.keras.applications.mobilenet.MobileNet(input_shape=IMG_SHAPE, weights=None, \n",
    "                                                                classes=len(listGroupsTrain))\n",
    "\n",
    "# Compile the model with a ADAM optimizers and a Crossentropy loss function\n",
    "# mobile_from_scratch.compile(optimizer='Adam',loss='categorical_crossentropy',metrics=['accuracy'])      \n",
    "lrate = 0.001\n",
    "mobile_from_scratch.compile(optimizer=tf.keras.optimizers.Adam(lr=lrate),loss='categorical_crossentropy',metrics=['accuracy'])      \n",
    "\n",
    "\n",
    "step_size_train=train_generator.n//train_generator.batch_size\n"
   ]
  },
  {
   "cell_type": "code",
   "execution_count": null,
   "metadata": {
    "colab": {
     "base_uri": "https://localhost:8080/",
     "height": 581
    },
    "colab_type": "code",
    "executionInfo": {
     "elapsed": 167007,
     "status": "ok",
     "timestamp": 1579709834115,
     "user": {
      "displayName": "Alexandra Dumitriu",
      "photoUrl": "",
      "userId": "05284431433817975591"
     },
     "user_tz": 300
    },
    "id": "79E7Whb_ZOY_",
    "outputId": "e05e46ae-8c80-411f-ea9e-7d1bea1f7b21"
   },
   "outputs": [],
   "source": [
    "# Train the model and save the loss and accuracy of the training\n",
    "# and validation data in the history variable\n",
    "historyModel_scratch = mobile_from_scratch.fit_generator(generator=train_generator,\n",
    "                                                         validation_data=test_generator,\n",
    "                                                         steps_per_epoch=step_size_train,\n",
    "                                                         epochs=10)          "
   ]
  },
  {
   "cell_type": "code",
   "execution_count": null,
   "metadata": {
    "colab": {},
    "colab_type": "code",
    "id": "IJgrf-ecJ_1G"
   },
   "outputs": [],
   "source": [
    "def plot_history(histories, titles, clrs='red'):\n",
    "  # helper function to plot the loss and accuracy \n",
    "  plt.figure(figsize=(18, 7))\n",
    "  # for history, title in zip(histories,titles):\n",
    "  for history, title, clr in zip(histories,titles,clrs):\n",
    "    acc = history.history['accuracy']\n",
    "    val_acc = history.history['val_accuracy']\n",
    "\n",
    "    loss = history.history['loss']\n",
    "    val_loss = history.history['val_loss']\n",
    "\n",
    "# color='green', marker='o', linestyle='dashed'\n",
    "    plt.subplot(1, 2, 1)\n",
    "    plt.plot(range(1, len(acc)+1), acc, color=clr, label='Training Accuracy: ' + title)\n",
    "    plt.plot(range(1, len(acc)+1), val_acc, color=clr, linestyle='dashed', label='Validation Accuracy: ' + title)\n",
    "    plt.legend()\n",
    "    plt.ylabel('Accuracy')\n",
    "    plt.ylim([min(plt.ylim()),1])\n",
    "    plt.title('Training and Validation Accuracy')\n",
    "\n",
    "    plt.subplot(1, 2, 2)\n",
    "    plt.plot(range(1, len(acc)+1), loss, color=clr,  label='Training Loss: ' + title)\n",
    "    plt.plot(range(1, len(acc)+1), val_loss, color=clr, linestyle='dashed', label='Validation Loss: ' + title)\n",
    "    plt.legend()\n",
    "    plt.ylabel('Cross Entropy')\n",
    "    plt.title('Training and Validation Loss')\n",
    "    plt.xlabel('epoch')\n",
    "  plt.show()"
   ]
  },
  {
   "cell_type": "markdown",
   "metadata": {
    "colab_type": "text",
    "id": "Vgyg02P13voV"
   },
   "source": [
    "**Plot our training and validation loss and accuracy**"
   ]
  },
  {
   "cell_type": "code",
   "execution_count": null,
   "metadata": {
    "colab": {
     "base_uri": "https://localhost:8080/",
     "height": 458
    },
    "colab_type": "code",
    "executionInfo": {
     "elapsed": 948,
     "status": "ok",
     "timestamp": 1579709844977,
     "user": {
      "displayName": "Alexandra Dumitriu",
      "photoUrl": "",
      "userId": "05284431433817975591"
     },
     "user_tz": 300
    },
    "id": "p8RTdfzvOMzZ",
    "outputId": "f36cd311-63f2-4e46-bec0-9ca4d24822a4"
   },
   "outputs": [],
   "source": [
    "histories = [historyModel_scratch]\n",
    "titles = ['model from scratch']\n",
    "clr = ['green']\n",
    "\n",
    "plot_history(histories, titles, clr)"
   ]
  },
  {
   "cell_type": "markdown",
   "metadata": {
    "colab_type": "text",
    "id": "-B0MEp2HuLyM"
   },
   "source": [
    "We are overfitting the MobileNet very fast. It makes sense, the network is too expressive and the dataset too small. \n",
    "\n",
    "So, how can we take an advantage of this efficient network?"
   ]
  },
  {
   "cell_type": "markdown",
   "metadata": {
    "colab_type": "text",
    "id": "6FnWLeLXlnBK"
   },
   "source": [
    "---------------\n",
    "\n",
    "\n",
    "# **2. Transfer Learning to the rescue**"
   ]
  },
  {
   "cell_type": "markdown",
   "metadata": {
    "colab_type": "text",
    "id": "2Cm14FKphuVV"
   },
   "source": [
    "## **2.1 Explore the pre-trained mobileNet features**\n",
    "\n",
    " MobileNet is able to extract abstract features from images. Inpsecting the network will figure out which *transfer values* we need."
   ]
  },
  {
   "cell_type": "markdown",
   "metadata": {
    "colab_type": "text",
    "id": "JoaTnWskXTg6"
   },
   "source": [
    "Let's extract the features that MobileNet learns for three  images, one from each category of dogs, birds, and fruits."
   ]
  },
  {
   "cell_type": "code",
   "execution_count": null,
   "metadata": {
    "colab": {},
    "colab_type": "code",
    "id": "2fwtU8J-XRYI"
   },
   "outputs": [],
   "source": [
    "preprocessed_image1 = prepare_image(pathFolder + 'misc_images/German_Shepherd.jpg')\n",
    "preprocessed_image2 = prepare_image(pathFolder + 'misc_images/hawk_1.jpg')\n",
    "preprocessed_image3 = prepare_image(pathFolder + 'misc_images/mango_1.jpg')"
   ]
  },
  {
   "cell_type": "markdown",
   "metadata": {
    "colab_type": "text",
    "id": "ojbDelyZELDq"
   },
   "source": [
    "Inspect the first convolution layer: `conv1`\n",
    "\n",
    "Load only up to the first convolution layer. We need to know the name of the layer (check with `*.summary()`)\n"
   ]
  },
  {
   "cell_type": "code",
   "execution_count": null,
   "metadata": {
    "colab": {
     "base_uri": "https://localhost:8080/",
     "height": 554
    },
    "colab_type": "code",
    "executionInfo": {
     "elapsed": 3254,
     "status": "ok",
     "timestamp": 1579709863768,
     "user": {
      "displayName": "Alexandra Dumitriu",
      "photoUrl": "",
      "userId": "05284431433817975591"
     },
     "user_tz": 300
    },
    "id": "q47PvMgjEXRP",
    "outputId": "eb357d48-a517-497c-d4a5-b4df039a0f17"
   },
   "outputs": [],
   "source": [
    "# load the model up to first convolution layers\n",
    "inspectLayerModel = tf.keras.models.Model(inputs=mobile.input, outputs=mobile.get_layer('conv1').output)\n",
    "\n",
    "features1 = inspectLayerModel.predict(preprocessed_image1)\n",
    "features2 = inspectLayerModel.predict(preprocessed_image2)\n",
    "features3 = inspectLayerModel.predict(preprocessed_image3)\n",
    "\n",
    "print('shape: ', features1.shape , '\\n')\n",
    "print('type: ',type(features1), '\\n')\n",
    "\n",
    "# Plot the first N features for each image\n",
    "N=5\n",
    "plt.figure(figsize=[16,8])\n",
    "for i in range(N):\n",
    "    # i in a different feature of each imge\n",
    "    plt.subplot(3,N,i+1)\n",
    "    plt.imshow(features1[0,:,:,i])\n",
    "    plt.subplot(3,N,N+i+1)\n",
    "    plt.imshow(features2[0,:,:,i])\n",
    "    plt.subplot(3,N,2*N + i+1)\n",
    "    plt.imshow(features3[0,:,:,i])"
   ]
  },
  {
   "cell_type": "markdown",
   "metadata": {
    "colab_type": "text",
    "id": "75fPaQysHWeK"
   },
   "source": [
    "Inspect one layer deeper: `conv_pw_1`"
   ]
  },
  {
   "cell_type": "code",
   "execution_count": null,
   "metadata": {
    "colab": {
     "base_uri": "https://localhost:8080/",
     "height": 520
    },
    "colab_type": "code",
    "executionInfo": {
     "elapsed": 3670,
     "status": "ok",
     "timestamp": 1579709874705,
     "user": {
      "displayName": "Alexandra Dumitriu",
      "photoUrl": "",
      "userId": "05284431433817975591"
     },
     "user_tz": 300
    },
    "id": "QL5bIijFHW1K",
    "outputId": "17737756-bebc-4069-a31a-3ff087b93312"
   },
   "outputs": [],
   "source": [
    "inspectLayerModel = tf.keras.models.Model(inputs=mobile.input, outputs=mobile.get_layer('conv_pw_1').output)\n",
    "\n",
    "features1 = inspectLayerModel.predict(preprocessed_image1)\n",
    "features2 = inspectLayerModel.predict(preprocessed_image2)\n",
    "features3 = inspectLayerModel.predict(preprocessed_image3)\n",
    "\n",
    "print('shape: ', features1.shape , '\\n')\n",
    "\n",
    "plt.figure(figsize=[16,8])\n",
    "for i in range(N):\n",
    "    plt.subplot(3,N,i+1)\n",
    "    plt.imshow(features1[0,:,:,i])\n",
    "    plt.subplot(3,N,N+i+1)\n",
    "    plt.imshow(features2[0,:,:,i])\n",
    "    plt.subplot(3,N,2*N + i+1)\n",
    "    plt.imshow(features3[0,:,:,i])"
   ]
  },
  {
   "cell_type": "markdown",
   "metadata": {
    "colab_type": "text",
    "id": "jxQO6VhXGJg-"
   },
   "source": [
    "Inpsect the last convolution layer: `conv_pw_13`"
   ]
  },
  {
   "cell_type": "code",
   "execution_count": null,
   "metadata": {
    "colab": {
     "base_uri": "https://localhost:8080/",
     "height": 517
    },
    "colab_type": "code",
    "executionInfo": {
     "elapsed": 2942,
     "status": "ok",
     "timestamp": 1579709886609,
     "user": {
      "displayName": "Alexandra Dumitriu",
      "photoUrl": "",
      "userId": "05284431433817975591"
     },
     "user_tz": 300
    },
    "id": "17QbcH1BGXsq",
    "outputId": "16445529-f685-4d0a-e3f5-3d91c683afe0"
   },
   "outputs": [],
   "source": [
    "inspectLayerModel = tf.keras.models.Model(inputs=mobile.input, outputs=mobile.get_layer('conv_pw_13_relu').output)\n",
    "\n",
    "features1 = inspectLayerModel.predict(preprocessed_image1)\n",
    "features2 = inspectLayerModel.predict(preprocessed_image2)\n",
    "features3 = inspectLayerModel.predict(preprocessed_image3)\n",
    "\n",
    "print('shape: ', features1.shape, '\\n')\n",
    "\n",
    "plt.figure(figsize=[16,8])\n",
    "for i in range(N):\n",
    "    plt.subplot(3,N,i+1)\n",
    "    plt.imshow(features1[0,:,:,i])\n",
    "    plt.subplot(3,N,N+i+1)\n",
    "    plt.imshow(features2[0,:,:,i])\n",
    "    plt.subplot(3,N,2*N + i+1)\n",
    "    plt.imshow(features3[0,:,:,i])\n"
   ]
  },
  {
   "cell_type": "markdown",
   "metadata": {
    "colab_type": "text",
    "id": "Etjyg3bk6zNc"
   },
   "source": [
    "Totally abstract features. Let's check for similarities between similar pictures"
   ]
  },
  {
   "cell_type": "code",
   "execution_count": null,
   "metadata": {
    "colab": {
     "base_uri": "https://localhost:8080/",
     "height": 439
    },
    "colab_type": "code",
    "executionInfo": {
     "elapsed": 2488,
     "status": "ok",
     "timestamp": 1579709898654,
     "user": {
      "displayName": "Alexandra Dumitriu",
      "photoUrl": "",
      "userId": "05284431433817975591"
     },
     "user_tz": 300
    },
    "id": "eFFPlarL6xjG",
    "outputId": "32aef97b-68af-4ec2-97be-1869cf6d8aae"
   },
   "outputs": [],
   "source": [
    "preprocessed_image1b = prepare_image(pathFolder + 'misc_images/labrador1.jpg')\n",
    "preprocessed_image2b = prepare_image(pathFolder + 'misc_images/hawk_2.jpg')\n",
    "preprocessed_image3b = prepare_image(pathFolder + 'misc_images/mango_2.jpg')\n",
    "\n",
    "features1 = inspectLayerModel.predict(preprocessed_image1)\n",
    "features1b = inspectLayerModel.predict(preprocessed_image1b)\n",
    "features2 = inspectLayerModel.predict(preprocessed_image2)\n",
    "features2b = inspectLayerModel.predict(preprocessed_image2b)\n",
    "features3 = inspectLayerModel.predict(preprocessed_image3)\n",
    "features3b = inspectLayerModel.predict(preprocessed_image3b)\n",
    "\n",
    "\n",
    "\n",
    "plt.figure(figsize=[16,8])\n",
    "for i in range(N):\n",
    "    plt.subplot(2,N,i+1)\n",
    "    plt.imshow(features2[0,:,:,i])\n",
    "    plt.subplot(2,N,N+i+1)\n",
    "    plt.imshow(features2b[0,:,:,i])\n",
    "    "
   ]
  },
  {
   "cell_type": "markdown",
   "metadata": {
    "colab_type": "text",
    "id": "lCXSpl8XbjxQ"
   },
   "source": [
    "\n",
    "The features seem  meaningless,  but is that true?\n",
    "\n",
    "Let's explore those features by using a dimensional reduction method such as Principle Component Analysis (PCA). "
   ]
  },
  {
   "cell_type": "markdown",
   "metadata": {
    "colab_type": "text",
    "id": "kVETnoDsyUtT"
   },
   "source": [
    "**PCA for further analysis of transfer values:**\n",
    "\n",
    "To save some time we use only 20 images per category. These data are store at `pcaData`.\n",
    "\n",
    "\n"
   ]
  },
  {
   "cell_type": "markdown",
   "metadata": {
    "colab_type": "text",
    "id": "A3MI0RCLgbY_"
   },
   "source": [
    "Define the layer from which we will extract the features"
   ]
  },
  {
   "cell_type": "code",
   "execution_count": null,
   "metadata": {
    "colab": {
     "base_uri": "https://localhost:8080/",
     "height": 51
    },
    "colab_type": "code",
    "executionInfo": {
     "elapsed": 3275,
     "status": "ok",
     "timestamp": 1579709913132,
     "user": {
      "displayName": "Alexandra Dumitriu",
      "photoUrl": "",
      "userId": "05284431433817975591"
     },
     "user_tz": 300
    },
    "id": "RTHI3h-egiAL",
    "outputId": "a1296285-5ecc-4edd-b8bf-6e15b1155602"
   },
   "outputs": [],
   "source": [
    "# featuresLayerModel = tf.keras.models.Model(inputs=mobile.input, outputs=mobile.get_layer('conv_pw_13_relu').output)\n",
    "\n",
    "# ALTERNATIVELY\n",
    "\n",
    "featuresLayerModel = tf.keras.applications.MobileNet(input_shape=IMG_SHAPE, weights='imagenet', include_top=False)"
   ]
  },
  {
   "cell_type": "markdown",
   "metadata": {
    "colab_type": "text",
    "id": "vfoAqEYegpL5"
   },
   "source": [
    "Count the images in the PCA dataset and define an array with the associate name of category of each image"
   ]
  },
  {
   "cell_type": "code",
   "execution_count": null,
   "metadata": {
    "colab": {},
    "colab_type": "code",
    "id": "MRFiQWfzgnw3"
   },
   "outputs": [],
   "source": [
    "# location\n",
    "pathPCA = pathFolder + 'pcaData/'\n",
    "\n",
    "# groups\n",
    "listGroups = os.listdir(pathPCA) # the directory path\n",
    "number_groups = len(listGroups)\n",
    "\n",
    "# count the pictures\n",
    "totalImages = 0\n",
    "for pathF in listGroups:\n",
    "    pathF1 = pathPCA + pathF\n",
    "    listFiles = os.listdir(pathF1) \n",
    "    totalImages += len(listFiles)"
   ]
  },
  {
   "cell_type": "code",
   "execution_count": null,
   "metadata": {
    "colab": {},
    "colab_type": "code",
    "id": "-DfR8wc1qSAo"
   },
   "outputs": [],
   "source": [
    "# PCA take a 1D object per image\n",
    "features_flatten = np.zeros([totalImages,7*7*1024]) \n",
    "\n",
    "i=0\n",
    "for pathF in listGroups:\n",
    "    pathF1 = pathPCA + pathF + \"/\"\n",
    "    for imgName in os.listdir(pathF1):\n",
    "        pathImag = pathF1 + imgName\n",
    "        preprocessed_img = prepare_image(pathImag)\n",
    "        features = featuresLayerModel.predict(preprocessed_img)\n",
    "        features_flatten[i,:] = features.flatten()\n",
    "        i += 1        "
   ]
  },
  {
   "cell_type": "markdown",
   "metadata": {
    "colab_type": "text",
    "id": "EMdmbFUJz6hp"
   },
   "source": [
    "Perform a PCA transform in the extracted features"
   ]
  },
  {
   "cell_type": "code",
   "execution_count": null,
   "metadata": {
    "colab": {},
    "colab_type": "code",
    "id": "mceoMQ0vwjGe"
   },
   "outputs": [],
   "source": [
    "pca = PCA(n_components=2)\n",
    "transferValues = features_flatten\n",
    "transferVal_pca = pca.fit_transform(transferValues)"
   ]
  },
  {
   "cell_type": "markdown",
   "metadata": {
    "colab_type": "text",
    "id": "QX71FgAX84ne"
   },
   "source": [
    "Plot the features after PCA transform and dimensionsal reduction"
   ]
  },
  {
   "cell_type": "code",
   "execution_count": null,
   "metadata": {
    "colab": {
     "base_uri": "https://localhost:8080/",
     "height": 592
    },
    "colab_type": "code",
    "executionInfo": {
     "elapsed": 818,
     "status": "ok",
     "timestamp": 1579710255075,
     "user": {
      "displayName": "Alexandra Dumitriu",
      "photoUrl": "",
      "userId": "05284431433817975591"
     },
     "user_tz": 300
    },
    "id": "_86UB8c94X7m",
    "outputId": "1889c6f2-af10-420b-ea71-034373fd115b"
   },
   "outputs": [],
   "source": [
    "x = transferVal_pca[:, 0]\n",
    "y = transferVal_pca[:, 1]\n",
    "\n",
    "mystyle = ['ok', 'or','^m','^y','*r','*k', '*b','ob']\n",
    "\n",
    "plt.figure(figsize=[14,10])\n",
    "\n",
    "# The number of images per category in the pca dataset \n",
    "imgC = 20\n",
    "\n",
    "for i in range(number_groups):\n",
    "    plt.plot(x[i*imgC : imgC*(i+1)],y[i*imgC : imgC*(i+1)], mystyle[i], label=listGroups[i] )\n",
    "plt.legend();"
   ]
  },
  {
   "cell_type": "markdown",
   "metadata": {
    "colab_type": "text",
    "id": "hK8NicKShuya"
   },
   "source": [
    " ## **2.2 Add and train  a new dense layer on the top of the pre-trained MobileNet (`mobile_1_layer`)**\n",
    "\n",
    "\n",
    "The plan is to use the pre-trained convolution layers obtained by MobileNet (base model), adjust a new dense layer in the end (classifier). Then freeze the base layers and train only the classifier.\n",
    "\n",
    "We are interested only in 8 classes."
   ]
  },
  {
   "cell_type": "code",
   "execution_count": null,
   "metadata": {
    "colab": {
     "base_uri": "https://localhost:8080/",
     "height": 34
    },
    "colab_type": "code",
    "executionInfo": {
     "elapsed": 472,
     "status": "ok",
     "timestamp": 1579710665351,
     "user": {
      "displayName": "Alexandra Dumitriu",
      "photoUrl": "",
      "userId": "05284431433817975591"
     },
     "user_tz": 300
    },
    "id": "xCPXMfcevIxm",
    "outputId": "baff7f38-b641-4566-88fc-de5598cd6685"
   },
   "outputs": [],
   "source": [
    "# Count the number of groups and make an array with their names\n",
    "pathTrain = pathFolder + 'trainData/'\n",
    "listGroupsTrain = os.listdir(pathTrain) # the directory path\n",
    "\n",
    "pathTest = pathFolder + 'testData/'\n",
    "listGroupsTest = os.listdir(pathTest) # the directory path\n",
    "\n",
    "number_groupsTrain = len(listGroupsTrain)\n",
    "print(number_groupsTrain, 'new groups')"
   ]
  },
  {
   "cell_type": "markdown",
   "metadata": {
    "colab_type": "text",
    "id": "gwfkEO1nWwwN"
   },
   "source": [
    "Define the **base model**"
   ]
  },
  {
   "cell_type": "code",
   "execution_count": null,
   "metadata": {
    "colab": {},
    "colab_type": "code",
    "id": "XZy_wMQOQe2d"
   },
   "outputs": [],
   "source": [
    "transferModel_base = tf.keras.applications.MobileNet(input_shape=IMG_SHAPE, weights='imagenet', include_top=False)"
   ]
  },
  {
   "cell_type": "code",
   "execution_count": null,
   "metadata": {
    "colab": {},
    "colab_type": "code",
    "id": "qRQBpB5z7gg5"
   },
   "outputs": [],
   "source": [
    "# transferModel_base.summary()"
   ]
  },
  {
   "cell_type": "markdown",
   "metadata": {
    "colab_type": "text",
    "id": "L7FGywkPW0Y8"
   },
   "source": [
    "Create the new architecture by transfering the convolutions layers from the mobilenet. \n",
    "\n"
   ]
  },
  {
   "cell_type": "code",
   "execution_count": null,
   "metadata": {
    "colab": {
     "base_uri": "https://localhost:8080/",
     "height": 255
    },
    "colab_type": "code",
    "executionInfo": {
     "elapsed": 1302,
     "status": "ok",
     "timestamp": 1579710681783,
     "user": {
      "displayName": "Alexandra Dumitriu",
      "photoUrl": "",
      "userId": "05284431433817975591"
     },
     "user_tz": 300
    },
    "id": "MwxMFft27fcF",
    "outputId": "3f60f185-49e3-4d02-9d4e-12ade15cf6e9"
   },
   "outputs": [],
   "source": [
    "# Freeze the mobileNet's layers\n",
    "transferModel_base.trainable = False\n",
    "\n",
    "# Regularize the dense layer by using L1\n",
    "kernel_weight = 0.02\n",
    "bias_weight = 0.02\n",
    "\n",
    "mobile_1_layer = tf.keras.Sequential([\n",
    "      transferModel_base,\n",
    "      tf.keras.layers.GlobalAveragePooling2D(),\n",
    "## You might want to add an extra dense layer\n",
    "      # Dense(32, activation='relu',\n",
    "      #                        kernel_regularizer=tf.keras.regularizers.l1(kernel_weight), \n",
    "      #                        bias_regularizer=tf.keras.regularizers.l1(bias_weight)),\n",
    "      Dense(number_groupsTrain, activation='softmax', name=\"dense_head\",\n",
    "                                 kernel_regularizer=tf.keras.regularizers.l1(kernel_weight), \n",
    "                                 bias_regularizer=tf.keras.regularizers.l1(bias_weight))\n",
    "])\n",
    "\n",
    "\n",
    "mobile_1_layer.summary()"
   ]
  },
  {
   "cell_type": "markdown",
   "metadata": {
    "colab_type": "text",
    "id": "N_1Ink_6ZQjd"
   },
   "source": [
    "Compile the model: Define optimizer, loss function, and the number of training period (epochs). \n",
    "\n",
    "It  takes a few minutes"
   ]
  },
  {
   "cell_type": "code",
   "execution_count": null,
   "metadata": {
    "colab": {},
    "colab_type": "code",
    "id": "xhIPq-YPp0yb"
   },
   "outputs": [],
   "source": [
    "# Adam optimizer, loss function will be categorical cross entropy\n",
    "lrate = 0.002\n",
    "mobile_1_layer.compile(optimizer=tf.keras.optimizers.Adam(lr=lrate),\n",
    "                     loss='categorical_crossentropy' ,metrics=['accuracy'])"
   ]
  },
  {
   "cell_type": "code",
   "execution_count": 3,
   "metadata": {
    "colab": {
     "base_uri": "https://localhost:8080/",
     "height": 510
    },
    "colab_type": "code",
    "executionInfo": {
     "elapsed": 68225,
     "status": "ok",
     "timestamp": 1579710879956,
     "user": {
      "displayName": "Alexandra Dumitriu",
      "photoUrl": "",
      "userId": "05284431433817975591"
     },
     "user_tz": 300
    },
    "id": "n9MpW3t9Y3gM",
    "outputId": "b3d5134a-c8c5-467f-a7c7-59f850413471"
   },
   "outputs": [
    {
     "ename": "NameError",
     "evalue": "name 'train_generator' is not defined",
     "output_type": "error",
     "traceback": [
      "\u001b[0;31m---------------------------------------------------------------------------\u001b[0m",
      "\u001b[0;31mNameError\u001b[0m                                 Traceback (most recent call last)",
      "\u001b[0;32m<ipython-input-3-478422830e4f>\u001b[0m in \u001b[0;36m<module>\u001b[0;34m\u001b[0m\n\u001b[0;32m----> 1\u001b[0;31m \u001b[0mstep_size_train\u001b[0m\u001b[0;34m=\u001b[0m\u001b[0mtrain_generator\u001b[0m\u001b[0;34m.\u001b[0m\u001b[0mn\u001b[0m\u001b[0;34m//\u001b[0m\u001b[0mtrain_generator\u001b[0m\u001b[0;34m.\u001b[0m\u001b[0mbatch_size\u001b[0m\u001b[0;34m\u001b[0m\u001b[0;34m\u001b[0m\u001b[0m\n\u001b[0m\u001b[1;32m      2\u001b[0m \u001b[0;34m\u001b[0m\u001b[0m\n\u001b[1;32m      3\u001b[0m history_mobile_1_layer = mobile_1_layer.fit_generator(generator=train_generator,\n\u001b[1;32m      4\u001b[0m                                        \u001b[0mvalidation_data\u001b[0m\u001b[0;34m=\u001b[0m\u001b[0mtest_generator\u001b[0m\u001b[0;34m,\u001b[0m\u001b[0;34m\u001b[0m\u001b[0;34m\u001b[0m\u001b[0m\n\u001b[1;32m      5\u001b[0m                                        \u001b[0msteps_per_epoch\u001b[0m\u001b[0;34m=\u001b[0m\u001b[0mstep_size_train\u001b[0m\u001b[0;34m,\u001b[0m\u001b[0;34m\u001b[0m\u001b[0;34m\u001b[0m\u001b[0m\n",
      "\u001b[0;31mNameError\u001b[0m: name 'train_generator' is not defined"
     ]
    }
   ],
   "source": [
    "step_size_train=train_generator.n//train_generator.batch_size\n",
    "\n",
    "history_mobile_1_layer = mobile_1_layer.fit_generator(generator=train_generator,\n",
    "                                       validation_data=test_generator,\n",
    "                                       steps_per_epoch=step_size_train,\n",
    "                                       epochs=10)"
   ]
  },
  {
   "cell_type": "markdown",
   "metadata": {
    "colab_type": "text",
    "id": "fW0dwqoU37Yt"
   },
   "source": [
    "**Check the performance**"
   ]
  },
  {
   "cell_type": "code",
   "execution_count": null,
   "metadata": {
    "colab": {
     "base_uri": "https://localhost:8080/",
     "height": 529
    },
    "colab_type": "code",
    "executionInfo": {
     "elapsed": 1266,
     "status": "ok",
     "timestamp": 1579710902958,
     "user": {
      "displayName": "Alexandra Dumitriu",
      "photoUrl": "",
      "userId": "05284431433817975591"
     },
     "user_tz": 300
    },
    "id": "d15n9yqPu0kT",
    "outputId": "f2ea4cef-3eea-412a-eea7-3f8863bcb3ec"
   },
   "outputs": [],
   "source": [
    "histories = [historyModel_scratch, history_mobile_1_layer]\n",
    "titles = ['model from scratch', '1 layer re-trained']\n",
    "clrs = ['green', 'red']\n",
    "plot_history(histories, titles, clrs)\n"
   ]
  },
  {
   "cell_type": "markdown",
   "metadata": {
    "colab_type": "text",
    "id": "irTVlslLteYC"
   },
   "source": [
    "##  **2.3 Re-train the last-2 layers of pre-trained mobileNet (`mobile_2_layers`)**\n",
    "\n",
    "During the training of the previoius new model we had frozen the pre-trained layers got by mobileNet. So, by doing PCA in the features (as we did earlier) we will not see any change. We can improve the features extracted by also training the last convolution layer of the new model"
   ]
  },
  {
   "cell_type": "code",
   "execution_count": null,
   "metadata": {
    "colab": {},
    "colab_type": "code",
    "id": "AoFM_ggj_k1a"
   },
   "outputs": [],
   "source": [
    "transferModel_base_fine_tuned_2_layers = tf.keras.applications.MobileNet(input_shape=IMG_SHAPE, weights='imagenet', include_top=False)\n",
    "\n",
    "transferModel_base_fine_tuned_2_layers.trainable = False"
   ]
  },
  {
   "cell_type": "code",
   "execution_count": null,
   "metadata": {
    "colab": {
     "base_uri": "https://localhost:8080/",
     "height": 1000
    },
    "colab_type": "code",
    "executionInfo": {
     "elapsed": 408,
     "status": "ok",
     "timestamp": 1579711253255,
     "user": {
      "displayName": "Alexandra Dumitriu",
      "photoUrl": "",
      "userId": "05284431433817975591"
     },
     "user_tz": 300
    },
    "id": "zjA9U-QFBrEo",
    "outputId": "b22c030b-8c69-4936-f650-bd9129aa1295"
   },
   "outputs": [],
   "source": [
    "# The number of the layers in the base model\n",
    "NumOfLayers = len(transferModel_base_fine_tuned_2_layers.layers)\n",
    "print(\"Number of layers in the base model: \", NumOfLayers)\n",
    "\n",
    "# Earlier we froze all the layers by: transferModel_base.trainable = False\n",
    "# Print out  the name of the layers to  decide which to un-freeze\n",
    "i = 1\n",
    "for layer in transferModel_base_fine_tuned_2_layers.layers[:NumOfLayers]:\n",
    "    print(i,layer.name)\n",
    "    i+=1\n"
   ]
  },
  {
   "cell_type": "code",
   "execution_count": null,
   "metadata": {
    "colab": {
     "base_uri": "https://localhost:8080/",
     "height": 68
    },
    "colab_type": "code",
    "executionInfo": {
     "elapsed": 1246,
     "status": "ok",
     "timestamp": 1579711293889,
     "user": {
      "displayName": "Alexandra Dumitriu",
      "photoUrl": "",
      "userId": "05284431433817975591"
     },
     "user_tz": 300
    },
    "id": "_rrwg03g495c",
    "outputId": "7e6b49ec-98d2-4d37-b0f5-95eafa38f28c"
   },
   "outputs": [],
   "source": [
    "# Fine-tune only the last convolution: (be careful, the last is  relu, we don;t need that)\n",
    "i = NumOfLayers-3\n",
    "for layer in transferModel_base_fine_tuned_2_layers.layers[NumOfLayers-3:NumOfLayers]:\n",
    "    layer.trainable =  True\n",
    "    print(i,layer.name)\n",
    "    i+=1\n",
    "\n",
    "mobile_2_layers = tf.keras.Sequential([\n",
    "  transferModel_base_fine_tuned_2_layers,\n",
    "  tf.keras.layers.GlobalAveragePooling2D(),\n",
    "Dense(number_groupsTrain, activation='softmax',\n",
    "                           kernel_regularizer=tf.keras.regularizers.l1(kernel_weight), \n",
    "                           bias_regularizer=tf.keras.regularizers.l1(bias_weight))\n",
    "])"
   ]
  },
  {
   "cell_type": "code",
   "execution_count": null,
   "metadata": {
    "colab": {
     "base_uri": "https://localhost:8080/",
     "height": 510
    },
    "colab_type": "code",
    "executionInfo": {
     "elapsed": 68088,
     "status": "ok",
     "timestamp": 1579711414188,
     "user": {
      "displayName": "Alexandra Dumitriu",
      "photoUrl": "",
      "userId": "05284431433817975591"
     },
     "user_tz": 300
    },
    "id": "pb1XdL4yBrVs",
    "outputId": "5e3001a7-4bc2-458a-976d-07786d6bbfd8"
   },
   "outputs": [],
   "source": [
    "mobile_2_layers.compile(optimizer=tf.keras.optimizers.Adam(lr=lrate),\n",
    "                     loss='categorical_crossentropy' ,metrics=['accuracy'])\n",
    "\n",
    "\n",
    "step_size_train=train_generator.n//train_generator.batch_size\n",
    "\n",
    "history_mobile_2_layers = mobile_2_layers.fit_generator(generator=train_generator,\n",
    "                                                  validation_data=test_generator,\n",
    "                                                  steps_per_epoch=step_size_train,\n",
    "                                                  epochs=10)"
   ]
  },
  {
   "cell_type": "markdown",
   "metadata": {
    "colab_type": "text",
    "id": "Ho67kyd4rfjy"
   },
   "source": [
    "\n",
    "**Compare the performance for the 1 versus 2 layers re-training**"
   ]
  },
  {
   "cell_type": "code",
   "execution_count": null,
   "metadata": {
    "colab": {
     "base_uri": "https://localhost:8080/",
     "height": 529
    },
    "colab_type": "code",
    "executionInfo": {
     "elapsed": 1230,
     "status": "ok",
     "timestamp": 1579711420061,
     "user": {
      "displayName": "Alexandra Dumitriu",
      "photoUrl": "",
      "userId": "05284431433817975591"
     },
     "user_tz": 300
    },
    "id": "yuJ0vQIerPRd",
    "outputId": "f2607223-67fa-4bc9-fc8c-c0b5a9b391bf"
   },
   "outputs": [],
   "source": [
    "histories = [history_mobile_1_layer, history_mobile_2_layers]\n",
    "titles = ['1 layer re-trained', '2 layer re-trained']\n",
    "clrs = ['red', 'orange']\n",
    "\n",
    "plot_history(histories, titles, clrs)"
   ]
  },
  {
   "cell_type": "markdown",
   "metadata": {
    "colab_type": "text",
    "id": "bg5CKJYxrqLL"
   },
   "source": [
    "**Inspect what happens with the features**\n",
    "\n",
    "Define first a function to perform PCA transform and make the plot"
   ]
  },
  {
   "cell_type": "code",
   "execution_count": null,
   "metadata": {
    "colab": {},
    "colab_type": "code",
    "id": "WBA0MDdTChtY"
   },
   "outputs": [],
   "source": [
    "def plot_feature_extraction(transferModel_base):\n",
    "  featuresTunedModel = tf.keras.models.Model(inputs=transferModel_base.input,\n",
    "                                             outputs=transferModel_base.get_layer('conv_pw_13_relu').output)\n",
    "\n",
    "\n",
    "  # Count the number of groups and make an array with their names\n",
    "  pathPCA = pathFolder + 'pcaData/'\n",
    "   \n",
    "  listGroups = os.listdir(pathPCA) # the directory path\n",
    "  number_groups = len(listGroups)\n",
    "\n",
    "  totalImages = 0\n",
    "  for pathF in listGroups:\n",
    "      pathF1 = pathPCA + pathF\n",
    "      listFiles = os.listdir(pathF1) \n",
    "      totalImages += len(listFiles)\n",
    "\n",
    "\n",
    "  features_tuning = np.zeros([totalImages,7*7*1024]) # for using the conv_pw_13 layer\n",
    "\n",
    "  i=0\n",
    "  for pathF in listGroups:\n",
    "      pathF1 = pathPCA + pathF + \"/\"\n",
    "      for imgName in os.listdir(pathF1):\n",
    "          pathImag = pathF1 + imgName\n",
    "          preprocessed_img = prepare_image(pathImag)\n",
    "          features = featuresTunedModel.predict(preprocessed_img)\n",
    "\n",
    "          features_tuning[i,:] = features.flatten()\n",
    "          i += 1        \n",
    "\n",
    "  pcaT = PCA(n_components=2)\n",
    "  transferValues = features_tuning\n",
    "  transferVal_pcaT = pcaT.fit_transform(transferValues)\n",
    "\n",
    "  x = transferVal_pcaT[:, 0]\n",
    "  y = transferVal_pcaT[:, 1]\n",
    "\n",
    "  mystyle = ['ok', 'or','^m','^y','*r','*k', '*b','ob']\n",
    "\n",
    "  imgC = 20\n",
    "\n",
    "  plt.figure(figsize=[12,8])\n",
    "  for i in range(number_groups):\n",
    "    plt.plot(x[i*imgC : imgC*(i+1)],y[i*imgC : imgC*(i+1)], mystyle[i], label=listGroups[i] )\n",
    "  plt.legend();\n"
   ]
  },
  {
   "cell_type": "code",
   "execution_count": null,
   "metadata": {
    "colab": {
     "base_uri": "https://localhost:8080/",
     "height": 483
    },
    "colab_type": "code",
    "executionInfo": {
     "elapsed": 24687,
     "status": "ok",
     "timestamp": 1579711662484,
     "user": {
      "displayName": "Alexandra Dumitriu",
      "photoUrl": "",
      "userId": "05284431433817975591"
     },
     "user_tz": 300
    },
    "id": "0Qc1YMTDChkj",
    "outputId": "fab935a4-2a0c-47d5-d644-a8ce8cf815b2"
   },
   "outputs": [],
   "source": [
    "plot_feature_extraction(transferModel_base_fine_tuned_2_layers)\n"
   ]
  },
  {
   "cell_type": "markdown",
   "metadata": {
    "colab_type": "text",
    "id": "DS5T4AByunWk"
   },
   "source": [
    "Compared to previously when only the last dense layer was trained and the feature extraction convolutional layers where exactly the ones from the pre-trained Imagenet model:"
   ]
  },
  {
   "cell_type": "code",
   "execution_count": null,
   "metadata": {
    "colab": {
     "base_uri": "https://localhost:8080/",
     "height": 483
    },
    "colab_type": "code",
    "executionInfo": {
     "elapsed": 11263,
     "status": "ok",
     "timestamp": 1579711683558,
     "user": {
      "displayName": "Alexandra Dumitriu",
      "photoUrl": "",
      "userId": "05284431433817975591"
     },
     "user_tz": 300
    },
    "id": "Fqzkw5n7umbJ",
    "outputId": "2f5cb35a-1ef0-42b6-faec-4e84cff51415"
   },
   "outputs": [],
   "source": [
    "plot_feature_extraction(transferModel_base)"
   ]
  },
  {
   "cell_type": "markdown",
   "metadata": {
    "colab_type": "text",
    "id": "FKg3S-K_pPL-"
   },
   "source": [
    "## **2.4 Re-train all layers of pre-trained mobileNet (`mobile_all_layers`)**\n",
    "\n"
   ]
  },
  {
   "cell_type": "code",
   "execution_count": null,
   "metadata": {
    "colab": {
     "base_uri": "https://localhost:8080/",
     "height": 510
    },
    "colab_type": "code",
    "executionInfo": {
     "elapsed": 72444,
     "status": "ok",
     "timestamp": 1579711768104,
     "user": {
      "displayName": "Alexandra Dumitriu",
      "photoUrl": "",
      "userId": "05284431433817975591"
     },
     "user_tz": 300
    },
    "id": "QrOzEefbpTm8",
    "outputId": "c2b88443-3fb7-4141-e593-fe95b10d9570"
   },
   "outputs": [],
   "source": [
    "transferModel_base_fine_tuned_all_layers = tf.keras.applications.MobileNet(input_shape=IMG_SHAPE, weights='imagenet', include_top=False)\n",
    "\n",
    "# Train the entire network\n",
    "transferModel_base_fine_tuned_all_layers.trainable = True\n",
    "\n",
    "\n",
    "mobile_all_layers = tf.keras.Sequential([\n",
    "  transferModel_base_fine_tuned_all_layers,\n",
    "  tf.keras.layers.GlobalAveragePooling2D(),\n",
    "  Dense(number_groupsTrain, activation='softmax',\n",
    "                         kernel_regularizer=tf.keras.regularizers.l1(kernel_weight), \n",
    "                          bias_regularizer=tf.keras.regularizers.l1(bias_weight))\n",
    "])\n",
    "\n",
    "\n",
    "mobile_all_layers.compile(optimizer=tf.keras.optimizers.Adam(lr=lrate),\n",
    "                     loss='categorical_crossentropy' ,metrics=['accuracy'])\n",
    "\n",
    "\n",
    "step_size_train=train_generator.n//train_generator.batch_size\n",
    "\n",
    "history_mobile_all_layers = mobile_all_layers.fit_generator(generator=train_generator,\n",
    "                                                  validation_data=test_generator,\n",
    "                                                  steps_per_epoch=step_size_train,\n",
    "                                                  epochs=10)"
   ]
  },
  {
   "cell_type": "markdown",
   "metadata": {
    "colab_type": "text",
    "id": "DWSLKgA7vHTu"
   },
   "source": [
    "**Let's compare the loss and accuracy for the 1 versus 2 and versus all  layers re-training**"
   ]
  },
  {
   "cell_type": "code",
   "execution_count": null,
   "metadata": {
    "colab": {
     "base_uri": "https://localhost:8080/",
     "height": 529
    },
    "colab_type": "code",
    "executionInfo": {
     "elapsed": 1174,
     "status": "ok",
     "timestamp": 1579711772582,
     "user": {
      "displayName": "Alexandra Dumitriu",
      "photoUrl": "",
      "userId": "05284431433817975591"
     },
     "user_tz": 300
    },
    "id": "7cDGNo9ivHTx",
    "outputId": "efd63b87-81c5-4216-cca7-71f930f7467f"
   },
   "outputs": [],
   "source": [
    "histories = [history_mobile_1_layer, history_mobile_2_layers, history_mobile_all_layers]\n",
    "titles = ['1 layer re-trained', '2 layers re-trained', 'all layers re-trained' ]\n",
    "clrs = ['red', 'orange', 'black']\n",
    "plot_history(histories, titles, clrs)"
   ]
  },
  {
   "cell_type": "markdown",
   "metadata": {
    "colab_type": "text",
    "id": "IcQFvbw8vHT1"
   },
   "source": [
    "**Inspect what happened with the features**"
   ]
  },
  {
   "cell_type": "code",
   "execution_count": null,
   "metadata": {
    "colab": {
     "base_uri": "https://localhost:8080/",
     "height": 483
    },
    "colab_type": "code",
    "executionInfo": {
     "elapsed": 11331,
     "status": "ok",
     "timestamp": 1579711796186,
     "user": {
      "displayName": "Alexandra Dumitriu",
      "photoUrl": "",
      "userId": "05284431433817975591"
     },
     "user_tz": 300
    },
    "id": "ZrmoEUa9vHT3",
    "outputId": "c4e70f77-d605-47a7-d3e8-2979c50469aa"
   },
   "outputs": [],
   "source": [
    "plot_feature_extraction(transferModel_base_fine_tuned_all_layers)"
   ]
  },
  {
   "cell_type": "markdown",
   "metadata": {
    "colab_type": "text",
    "id": "J0OIl61C8GY2"
   },
   "source": [
    "## **2.5 Fine-tuning**\n",
    "\n",
    "We use the first architecture where we  trained only the classifier layer. Now, we unfreeze the convolution layers and keep training the entire network"
   ]
  },
  {
   "cell_type": "code",
   "execution_count": null,
   "metadata": {
    "colab": {
     "base_uri": "https://localhost:8080/",
     "height": 255
    },
    "colab_type": "code",
    "executionInfo": {
     "elapsed": 338,
     "status": "ok",
     "timestamp": 1579711801586,
     "user": {
      "displayName": "Alexandra Dumitriu",
      "photoUrl": "",
      "userId": "05284431433817975591"
     },
     "user_tz": 300
    },
    "id": "JhJaTz1s2wzv",
    "outputId": "ee0c0686-1767-4914-9df2-e0f1ba520998"
   },
   "outputs": [],
   "source": [
    "mobile_1_layer.summary()"
   ]
  },
  {
   "cell_type": "code",
   "execution_count": null,
   "metadata": {
    "colab": {},
    "colab_type": "code",
    "id": "LAtlymYD4eJF"
   },
   "outputs": [],
   "source": [
    "# unfreeze the convolution layers\n",
    "transferModel_baseTune = tf.keras.applications.MobileNet(input_shape=IMG_SHAPE, weights='imagenet', include_top=False)\n",
    "transferModel_baseTune.trainable = True\n",
    "\n",
    "# re-define the architecture\n",
    "mobile_tuned = tf.keras.Sequential([\n",
    "  transferModel_baseTune,\n",
    "  tf.keras.layers.GlobalAveragePooling2D(),\n",
    "  mobile_1_layer.get_layer('dense_head')\n",
    "])\n"
   ]
  },
  {
   "cell_type": "code",
   "execution_count": null,
   "metadata": {
    "colab": {
     "base_uri": "https://localhost:8080/",
     "height": 255
    },
    "colab_type": "code",
    "executionInfo": {
     "elapsed": 436,
     "status": "ok",
     "timestamp": 1579711825557,
     "user": {
      "displayName": "Alexandra Dumitriu",
      "photoUrl": "",
      "userId": "05284431433817975591"
     },
     "user_tz": 300
    },
    "id": "zMmzi-j-5YUe",
    "outputId": "3e2c638f-1ac8-474b-a0b6-e9851d6f4a54"
   },
   "outputs": [],
   "source": [
    "mobile_tuned.summary()"
   ]
  },
  {
   "cell_type": "code",
   "execution_count": null,
   "metadata": {
    "colab": {
     "base_uri": "https://localhost:8080/",
     "height": 510
    },
    "colab_type": "code",
    "executionInfo": {
     "elapsed": 72065,
     "status": "ok",
     "timestamp": 1579711904730,
     "user": {
      "displayName": "Alexandra Dumitriu",
      "photoUrl": "",
      "userId": "05284431433817975591"
     },
     "user_tz": 300
    },
    "id": "2UPcgaHE5sMK",
    "outputId": "a808308d-3325-49c1-f3a4-ef28c76d244b"
   },
   "outputs": [],
   "source": [
    "mobile_tuned.compile(optimizer=tf.keras.optimizers.Adam(lr=lrate),\n",
    "                     loss='categorical_crossentropy' ,metrics=['accuracy'])\n",
    "\n",
    "\n",
    "step_size_train=train_generator.n//train_generator.batch_size\n",
    "\n",
    "history_mobile_tuned = mobile_tuned.fit_generator(generator=train_generator,\n",
    "                                                  validation_data=test_generator,\n",
    "                                                  steps_per_epoch=step_size_train,\n",
    "                                                  epochs=10)"
   ]
  },
  {
   "cell_type": "markdown",
   "metadata": {
    "colab_type": "text",
    "id": "078liu2L5tTS"
   },
   "source": [
    "Performance"
   ]
  },
  {
   "cell_type": "code",
   "execution_count": null,
   "metadata": {
    "colab": {
     "base_uri": "https://localhost:8080/",
     "height": 529
    },
    "colab_type": "code",
    "executionInfo": {
     "elapsed": 1449,
     "status": "ok",
     "timestamp": 1579711907870,
     "user": {
      "displayName": "Alexandra Dumitriu",
      "photoUrl": "",
      "userId": "05284431433817975591"
     },
     "user_tz": 300
    },
    "id": "huCEpnSf6Y9R",
    "outputId": "5fcd6592-91c5-4f62-ec3b-180246f41b9a"
   },
   "outputs": [],
   "source": [
    "histories = [history_mobile_1_layer, history_mobile_2_layers, history_mobile_all_layers, history_mobile_tuned]\n",
    "titles = ['1 layer re-trained', '2 layers re-trained', 'all layers re-trained', 'tuning']\n",
    "clrs = ['red', 'orange', 'black', 'blue']\n",
    "\n",
    "plot_history(histories, titles, clrs)"
   ]
  },
  {
   "cell_type": "markdown",
   "metadata": {
    "colab_type": "text",
    "id": "wFiZ76KJ5vzB"
   },
   "source": [
    "**Features inspection**"
   ]
  },
  {
   "cell_type": "code",
   "execution_count": null,
   "metadata": {
    "colab": {
     "base_uri": "https://localhost:8080/",
     "height": 483
    },
    "colab_type": "code",
    "executionInfo": {
     "elapsed": 11696,
     "status": "ok",
     "timestamp": 1579711925378,
     "user": {
      "displayName": "Alexandra Dumitriu",
      "photoUrl": "",
      "userId": "05284431433817975591"
     },
     "user_tz": 300
    },
    "id": "OM1TyCQm6lUs",
    "outputId": "dee63fa3-3c34-48f3-a115-8a7f6ca5d58b"
   },
   "outputs": [],
   "source": [
    "plot_feature_extraction(transferModel_baseTune)"
   ]
  },
  {
   "cell_type": "markdown",
   "metadata": {
    "colab_type": "text",
    "id": "miG76O5gzREO"
   },
   "source": [
    "## **Conclusion:**\n",
    "\n",
    "**Transfer learning  for classification:**\n",
    "\n",
    "Training a deep network (such as mobileNet, inception, VGG etc) from the scratch is time consuming. Designing a new network to classify a particular dataset requires a lot of effort (hyperparameter optimization etc). We might use a pre-trained deep network  and re-train only a few new layers. In particular, we can use the convolution layers that already have been trained to extract features and add on the top one or more dense layers, the classifier block. We freeze the convolution layers and train only the classifier block of layers on a certain dataset. *This proccess improves the classification but does not improve the feature extraction.*\n",
    "\n",
    "\n",
    "**Fine tuning for feature extraction:**\n",
    "\n",
    "When we are working with a small dataset it is difficult to train a network to extract features. On the other hand, a pre-trained model that has been trained on a big dataset is able to extract features much better. However, it might not perform very well in extracting features for a particular dataset. In that case we can improve the feature extraction by fine tuning. First, we  freeze  the pre-trained convolution layers and train the new classifier layers (dense). Once we have trained the classifier we unfreeze the convolution layers and keep training the entire network.\n",
    "\n"
   ]
  },
  {
   "cell_type": "markdown",
   "metadata": {
    "colab_type": "text",
    "id": "TcknEevWThkc"
   },
   "source": [
    "## **References**\n",
    "\n",
    "- https://towardsdatascience.com/transfer-learning-using-mobilenet-and-keras-c75daf7ff299\n",
    "- https://www.alibabacloud.com/blog/part-3-image-classification-using-features-extracted-by-transfer-learning-in-keras_595291\n",
    "- https://www.tensorflow.org/tutorials/images/transfer_learning\n",
    "\n"
   ]
  },
  {
   "cell_type": "markdown",
   "metadata": {
    "colab_type": "text",
    "id": "1wB5Aokma-iT"
   },
   "source": [
    "# **END OF NOTEBOOK**\n",
    "\n",
    "----------------------"
   ]
  },
  {
   "cell_type": "markdown",
   "metadata": {
    "colab_type": "text",
    "id": "gZOdscaqa-X4"
   },
   "source": [
    "## **Extension**\n"
   ]
  },
  {
   "cell_type": "markdown",
   "metadata": {
    "colab_type": "text",
    "id": "yx6vjpOZhY7I"
   },
   "source": [
    "**Download data**\n",
    "\n",
    "We can download  images very easy from Google Image Search. To save sometime we have done this for you. But there is the code to download images:"
   ]
  },
  {
   "cell_type": "code",
   "execution_count": null,
   "metadata": {
    "colab": {},
    "colab_type": "code",
    "id": "0VPj2ftPOiTF"
   },
   "outputs": [],
   "source": [
    "## An example to download images for crows from google_image package \n",
    "\n",
    "# !pip install google_images_download\n",
    "# from google_images_download import google_images_download\n",
    "# response = google_images_download.googleimagesdownload()\n",
    "# arguments = {\"keywords\":\"crow\",\"limit\":100,\"print_urls\":False, \"format\":\"jpg\", \"size\":\">400*300\"}\n",
    "# paths = response.download(arguments)"
   ]
  }
 ],
 "metadata": {
  "accelerator": "GPU",
  "colab": {
   "collapsed_sections": [],
   "machine_shape": "hm",
   "name": "Transfer Learning Workshops_1",
   "provenance": [
    {
     "file_id": "1Zj_uP3cHnpTX1-OlBRb_Jral4e8hyvMH",
     "timestamp": 1579491039253
    },
    {
     "file_id": "1CW6pLPp20MjAG-sv1KZR8d889ma0R4Q7",
     "timestamp": 1579459559640
    },
    {
     "file_id": "1cDjnKMghnpSIHFARdh6cA0wEtwWgUET-",
     "timestamp": 1579442631977
    },
    {
     "file_id": "1yG_k5baE9WLxrKcfvAc-6plS-Hf7iOtT",
     "timestamp": 1578689550903
    }
   ]
  },
  "kernelspec": {
   "display_name": "python3",
   "language": "python",
   "name": "python3"
  }
 },
 "nbformat": 4,
 "nbformat_minor": 1
}
