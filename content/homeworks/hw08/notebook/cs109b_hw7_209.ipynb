{
 "cells": [
  {
   "cell_type": "markdown",
   "metadata": {
    "colab_type": "text",
    "deletable": false,
    "editable": false,
    "id": "JdFUQNA5XUbn"
   },
   "source": [
    "# <img style=\"float: left; padding-right: 10px; width: 45px\" src=\"https://raw.githubusercontent.com/Harvard-IACS/2018-CS109A/master/content/styles/iacs.png\"> CS109B Data Science 2: Advanced Topics in Data Science \n",
    "\n",
    "## Homewor: Inference in NN \n",
    "\n",
    "**Harvard University**<br/>\n",
    "**Spring 2020**<br/>\n",
    "**Instructors:** Pavlos Protopapas, Mark Glickman, Chris Tanner<br/>\n",
    "\n",
    "<hr style=\"height:2pt\">"
   ]
  },
  {
   "cell_type": "code",
   "execution_count": 1,
   "metadata": {
    "colab": {
     "base_uri": "https://localhost:8080/",
     "height": 17
    },
    "colab_type": "code",
    "deletable": false,
    "editable": false,
    "id": "cKWDlL0JXUbs",
    "outputId": "642bd4a8-ebb6-415f-e935-337ee5ccaef6"
   },
   "outputs": [
    {
     "data": {
      "text/html": [
       "<style>\n",
       "blockquote { background: #AEDE94; }\n",
       "h1 { \n",
       "    padding-top: 25px;\n",
       "    padding-bottom: 25px;\n",
       "    text-align: left; \n",
       "    padding-left: 10px;\n",
       "    background-color: #DDDDDD; \n",
       "    color: black;\n",
       "}\n",
       "h2 { \n",
       "    padding-top: 10px;\n",
       "    padding-bottom: 10px;\n",
       "    text-align: left; \n",
       "    padding-left: 5px;\n",
       "    background-color: #EEEEEE; \n",
       "    color: black;\n",
       "}\n",
       "\n",
       "div.exercise {\n",
       "\tbackground-color: #ffcccc;\n",
       "\tborder-color: #E9967A; \t\n",
       "\tborder-left: 5px solid #800080; \n",
       "\tpadding: 0.5em;\n",
       "}\n",
       "\n",
       "span.sub-q {\n",
       "\tfont-weight: bold;\n",
       "}\n",
       "div.theme {\n",
       "\tbackground-color: #DDDDDD;\n",
       "\tborder-color: #E9967A; \t\n",
       "\tborder-left: 5px solid #800080; \n",
       "\tpadding: 0.5em;\n",
       "\tfont-size: 18pt;\n",
       "}\n",
       "div.gc { \n",
       "\tbackground-color: #AEDE94;\n",
       "\tborder-color: #E9967A; \t \n",
       "\tborder-left: 5px solid #800080; \n",
       "\tpadding: 0.5em;\n",
       "\tfont-size: 12pt;\n",
       "}\n",
       "p.q1 { \n",
       "    padding-top: 5px;\n",
       "    padding-bottom: 5px;\n",
       "    text-align: left; \n",
       "    padding-left: 5px;\n",
       "    background-color: #EEEEEE; \n",
       "    color: black;\n",
       "}\n",
       "header {\n",
       "   padding-top: 35px;\n",
       "    padding-bottom: 35px;\n",
       "    text-align: left; \n",
       "    padding-left: 10px;\n",
       "    background-color: #DDDDDD; \n",
       "    color: black;\n",
       "}\n",
       "</style>\n",
       "\n"
      ],
      "text/plain": [
       "<IPython.core.display.HTML object>"
      ]
     },
     "execution_count": 1,
     "metadata": {},
     "output_type": "execute_result"
    }
   ],
   "source": [
    "#RUN THIS CELL \n",
    "import requests\n",
    "from IPython.core.display import HTML\n",
    "styles = requests.get(\"https://raw.githubusercontent.com/Harvard-IACS/2018-CS109A/master/content/styles/cs109.css\").text\n",
    "HTML(styles)"
   ]
  },
  {
   "cell_type": "code",
   "execution_count": 2,
   "metadata": {
    "colab": {
     "base_uri": "https://localhost:8080/",
     "height": 17
    },
    "colab_type": "code",
    "deletable": false,
    "editable": false,
    "id": "cKWDlL0JXUbs",
    "outputId": "642bd4a8-ebb6-415f-e935-337ee5ccaef6"
   },
   "outputs": [],
   "source": [
    "#RUN THIS CELL\n",
    "import os\n",
    "import pathlib\n",
    "working_dir = pathlib.Path().absolute()\n",
    "os.chdir(working_dir)"
   ]
  },
  {
   "cell_type": "markdown",
   "metadata": {
    "deletable": false,
    "editable": false
   },
   "source": [
    "<hr style=\"height:2pt\">\n",
    "\n",
    "### INSTRUCTIONS\n",
    "\n",
    "- To submit your assignment follow the instructions given in Canvas.\n",
    "\n",
    "- This homework can be submitted in pairs.\n",
    "\n",
    "- Please restart the kernel and run the entire notebook again before you submit.\n",
    "\n",
    "<hr style=\"height:2pt\">"
   ]
  },
  {
   "cell_type": "code",
   "execution_count": 3,
   "metadata": {
    "colab": {
     "base_uri": "https://localhost:8080/",
     "height": 34
    },
    "colab_type": "code",
    "deletable": false,
    "editable": false,
    "id": "hakVc8z8aGmt",
    "outputId": "8ad99d3a-22a6-4509-a417-c679a16a50ca"
   },
   "outputs": [],
   "source": [
    "import numpy as np\n",
    "import pandas as pd\n",
    "import matplotlib.pyplot as plt\n",
    "import seaborn as sns\n",
    "# from sklearn.preprocessing import StandardScaler\n",
    "\n",
    "sns.set()\n",
    "\n",
    "import tensorflow as tf\n",
    "\n",
    "import tensorflow.keras.backend as K\n",
    "from tensorflow.keras import layers\n",
    "from tensorflow.keras.models import Sequential\n",
    "from tensorflow.keras.layers import Dense, Flatten\n",
    "from tensorflow.keras.callbacks import Callback, ModelCheckpoint, History \n",
    "from tensorflow.keras.wrappers.scikit_learn import KerasClassifier\n",
    "#from tensorflow.keras.utils import np_utils\n",
    "from tensorflow.keras.optimizers import SGD, Adam\n",
    "from tensorflow.keras.layers import Dropout\n",
    "from sklearn.model_selection import cross_val_score,  KFold, train_test_split, StratifiedKFold\n",
    "from sklearn.preprocessing import LabelEncoder, StandardScaler\n",
    "from sklearn.pipeline import Pipeline\n",
    "from sklearn.metrics import confusion_matrix\n",
    "from tensorflow.keras import optimizers\n",
    "\n",
    "from functools import partial\n",
    "\n",
    "np.random.seed(0)\n",
    "\n",
    "\n",
    "%matplotlib notebook\n",
    "%matplotlib inline"
   ]
  },
  {
   "cell_type": "markdown",
   "metadata": {
    "colab_type": "text",
    "deletable": false,
    "editable": false,
    "id": "rUkgUGwJXUcH"
   },
   "source": [
    "<div class=\"theme\"> Overview </div> \n",
    "\n",
    "In this homework, we will investigate methods for uncertainty quantification in deep neural networks. These are alternatives to the robust MCMC that doesn't scale to large models."
   ]
  },
  {
   "cell_type": "markdown",
   "metadata": {
    "colab_type": "text",
    "deletable": false,
    "id": "kX9cfAwWXUcL"
   },
   "source": [
    "<div class='exercise'><b> Question 1: Dropout as a Bayesian Approximation [10 pts] (Gal & Ghahramani 2015, https://arxiv.org/abs/1506.02142)</b></div>  \n",
    "\n",
    "For this question, we will be generate a synthetic dataset in order to be able to test different uncertainty regimes, we will train the model with a gap in the data. \n",
    "\n",
    "**1.1** [1 pt] Generate a synthetic two dimensional dataset using the function y = 0.1 * x^3 plus random noise (0, 0.25). Generate a training set of 200 points with no data in the range x=[-1,1]. Generate a test set of 80 data points with values uniformly distributed in the whole domain. Plot the two data sets.\n",
    "\n",
    "**1.2** [2 pts] Create a fully connected neural network with 3 layers of 20 nodes each. Include dropout (using the Dropout class provided) before the last layer. \n",
    "\n",
    "**1.3** [2 pts] Train the network with dropout of 0.1, do inference for all the test points 10 times in training mode. From the outputs, find the model mean and standard variation. Repeat with dropoout of 0.2.\n",
    "\n",
    "**1.4** [1 pt] Make a plot of the data, the model, and the uncertainty. Show the model mean and color the region of tow standard deviations.\n",
    "\n",
    "**1.5** [2 pts] Turn dropout off (set it to 0) and train 50 models bootstrapping the training data. Doing statistics on the outputs, make a plot of the data, the model, and the uncertainty. Show the model mean and color the region two standard deviations away, as in **1.3**\n",
    "\n",
    "**1.6** [2 pts] Compare both methods and discuss the pros and cons of each.\n",
    "\n"
   ]
  },
  {
   "cell_type": "markdown",
   "metadata": {
    "colab_type": "text",
    "deletable": false,
    "editable": false,
    "id": "hBtmANNuuS6h"
   },
   "source": [
    "## Answers"
   ]
  },
  {
   "cell_type": "markdown",
   "metadata": {
    "autograde": "1.1",
    "deletable": false,
    "editable": false
   },
   "source": [
    "**1.1** [1 pt] Generate a synthetic two dimensional dataset using the function y = 0.1 * x^3 plus random noise (0, 0.25). Generate a training set of 200 points with no data in the range x=[-1,1]. Generate a test set of 80 data points with values uniformly distributed in the whole domain. Plot the two data sets.\n"
   ]
  },
  {
   "cell_type": "code",
   "execution_count": 4,
   "metadata": {
    "deletable": false
   },
   "outputs": [],
   "source": [
    "def build_dataset(N, noise_std=0.25, is_test=True):\n",
    "    dataset = np.zeros((N,2))\n",
    "    x = np.random.uniform(-4,4,10000)\n",
    "    if is_test is False: # Omit data from -1 to 1\n",
    "        filtered_xs = np.argwhere((x < -1) | (x > 1))\n",
    "        x = np.copy(x[filtered_xs])\n",
    "    dataset[:,0] = x[:N].flatten()\n",
    "    dataset[:,1] = 0.1 * dataset[:,0]**3 + np.random.normal(0,noise_std)\n",
    "    return dataset\n",
    "    # your code here\n"
   ]
  },
  {
   "cell_type": "code",
   "execution_count": 5,
   "metadata": {
    "deletable": false
   },
   "outputs": [],
   "source": [
    "# your code here\n",
    "train_ds = build_dataset(200,is_test=False)\n",
    "test_ds = build_dataset(80, is_test=True)"
   ]
  },
  {
   "cell_type": "code",
   "execution_count": 6,
   "metadata": {
    "deletable": false
   },
   "outputs": [
    {
     "data": {
      "text/plain": [
       "[Text(0, 0.5, 'y'), Text(0.5, 0, 'x'), Text(0.5, 1.0, 'Test Data')]"
      ]
     },
     "execution_count": 6,
     "metadata": {},
     "output_type": "execute_result"
    },
    {
     "data": {
      "image/png": "[encoded data removed]",
      "text/plain": [
       "<Figure size 432x288 with 1 Axes>"
      ]
     },
     "metadata": {
      "needs_background": "light"
     },
     "output_type": "display_data"
    },
    {
     "data": {
      "image/png": "[encoded data removed]",
      "text/plain": [
       "<Figure size 432x288 with 1 Axes>"
      ]
     },
     "metadata": {
      "needs_background": "light"
     },
     "output_type": "display_data"
    }
   ],
   "source": [
    "# your code here\n",
    "fig, ax = plt.subplots()\n",
    "ax.scatter(train_ds[:,0],train_ds[:,1])\n",
    "\n",
    "ax.set(xlabel='x', ylabel='y',\n",
    "       title='Train Data')\n",
    "\n",
    "fig, ax = plt.subplots()\n",
    "ax.scatter(test_ds[:,0],test_ds[:,1])\n",
    "\n",
    "ax.set(xlabel='x', ylabel='y',\n",
    "       title='Test Data')"
   ]
  },
  {
   "cell_type": "markdown",
   "metadata": {
    "autograde": "1.2",
    "deletable": false,
    "editable": false
   },
   "source": [
    "**1.2** [2 pts] Create a fully connected neural network with 3 layers of 20 nodes each. Include dropout (using the Dropout class provided) before the last layer.\n"
   ]
  },
  {
   "cell_type": "code",
   "execution_count": 7,
   "metadata": {
    "deletable": false,
    "editable": false
   },
   "outputs": [],
   "source": [
    "# https://github.com/keras-team/keras/issues/9412\n",
    "\n",
    "class Dropout(layers.Dropout):\n",
    "    \"\"\"Applies Dropout to the input.\n",
    "    Dropout consists in randomly setting\n",
    "    a fraction `rate` of input units to 0 at each update during training time,\n",
    "    which helps prevent overfitting.\n",
    "    # Arguments\n",
    "        rate: float between 0 and 1. Fraction of the input units to drop.\n",
    "        noise_shape: 1D integer tensor representing the shape of the\n",
    "            binary dropout mask that will be multiplied with the input.\n",
    "            For instance, if your inputs have shape\n",
    "            `(batch_size, timesteps, features)` and\n",
    "            you want the dropout mask to be the same for all timesteps,\n",
    "            you can use `noise_shape=(batch_size, 1, features)`.\n",
    "        seed: A Python integer to use as random seed.\n",
    "    # References\n",
    "        - [Dropout: A Simple Way to Prevent Neural Networks from Overfitting](\n",
    "           http://www.jmlr.org/papers/volume15/srivastava14a/srivastava14a.pdf)\n",
    "    \"\"\"\n",
    "    def __init__(self, rate, training=None, noise_shape=None, seed=None, **kwargs):\n",
    "        super(Dropout, self).__init__(rate, noise_shape=None, seed=None,**kwargs)\n",
    "        self.training = training\n",
    "\n",
    "        \n",
    "    def call(self, inputs, training=None):\n",
    "        if 0. < self.rate < 1.:\n",
    "            noise_shape = self._get_noise_shape(inputs)\n",
    "\n",
    "            def dropped_inputs():\n",
    "                return K.dropout(inputs, self.rate, noise_shape,\n",
    "                                 seed=self.seed)\n",
    "            if not training: \n",
    "                return K.in_train_phase(dropped_inputs, inputs, training=self.training)\n",
    "            return K.in_train_phase(dropped_inputs, inputs, training=training)\n",
    "        return inputs"
   ]
  },
  {
   "cell_type": "code",
   "execution_count": 8,
   "metadata": {
    "deletable": false
   },
   "outputs": [],
   "source": [
    "# create model \n",
    "model = Sequential()\n",
    "model.add(Dense(20, input_dim=1, activation='relu'))\n",
    "model.add(Dense(20, activation='relu'))\n",
    "model.add(Dense(20, activation='relu'))\n",
    "model.add(Dropout(rate=0.2))\n",
    "model.add(Dense(1))\n",
    "model.compile(loss='mean_squared_error', optimizer='adam')\n"
   ]
  },
  {
   "cell_type": "code",
   "execution_count": 9,
   "metadata": {
    "deletable": false
   },
   "outputs": [
    {
     "name": "stdout",
     "output_type": "stream",
     "text": [
      "Train on 200 samples\n",
      "Epoch 1/100\n",
      "200/200 [==============================] - 1s 4ms/sample - loss: 8.7154\n",
      "Epoch 2/100\n",
      "200/200 [==============================] - 0s 94us/sample - loss: 8.1444\n",
      "Epoch 3/100\n",
      "200/200 [==============================] - 0s 96us/sample - loss: 7.5087\n",
      "Epoch 4/100\n",
      "200/200 [==============================] - 0s 94us/sample - loss: 6.8073\n",
      "Epoch 5/100\n",
      "200/200 [==============================] - 0s 92us/sample - loss: 6.0387\n",
      "Epoch 6/100\n",
      "200/200 [==============================] - 0s 94us/sample - loss: 5.3981\n",
      "Epoch 7/100\n",
      "200/200 [==============================] - 0s 96us/sample - loss: 4.6151\n",
      "Epoch 8/100\n",
      "200/200 [==============================] - 0s 99us/sample - loss: 4.0064\n",
      "Epoch 9/100\n",
      "200/200 [==============================] - 0s 99us/sample - loss: 3.1571\n",
      "Epoch 10/100\n",
      "200/200 [==============================] - 0s 607us/sample - loss: 2.5838\n",
      "Epoch 11/100\n",
      "200/200 [==============================] - 0s 96us/sample - loss: 2.1965\n",
      "Epoch 12/100\n",
      "200/200 [==============================] - 0s 99us/sample - loss: 1.7603\n",
      "Epoch 13/100\n",
      "200/200 [==============================] - 0s 93us/sample - loss: 1.8023\n",
      "Epoch 14/100\n",
      "200/200 [==============================] - 0s 96us/sample - loss: 1.5996\n",
      "Epoch 15/100\n",
      "200/200 [==============================] - 0s 91us/sample - loss: 1.7496\n",
      "Epoch 16/100\n",
      "200/200 [==============================] - 0s 92us/sample - loss: 1.5648\n",
      "Epoch 17/100\n",
      "200/200 [==============================] - 0s 96us/sample - loss: 1.5641\n",
      "Epoch 18/100\n",
      "200/200 [==============================] - 0s 93us/sample - loss: 1.6322\n",
      "Epoch 19/100\n",
      "200/200 [==============================] - 0s 92us/sample - loss: 1.3143\n",
      "Epoch 20/100\n",
      "200/200 [==============================] - 0s 92us/sample - loss: 1.4237\n",
      "Epoch 21/100\n",
      "200/200 [==============================] - 0s 96us/sample - loss: 1.6640\n",
      "Epoch 22/100\n",
      "200/200 [==============================] - 0s 96us/sample - loss: 1.6319\n",
      "Epoch 23/100\n",
      "200/200 [==============================] - 0s 95us/sample - loss: 1.4428\n",
      "Epoch 24/100\n",
      "200/200 [==============================] - 0s 100us/sample - loss: 1.4371\n",
      "Epoch 25/100\n",
      "200/200 [==============================] - 0s 97us/sample - loss: 1.2763\n",
      "Epoch 26/100\n",
      "200/200 [==============================] - 0s 96us/sample - loss: 1.2217\n",
      "Epoch 27/100\n",
      "200/200 [==============================] - 0s 101us/sample - loss: 1.4342\n",
      "Epoch 28/100\n",
      "200/200 [==============================] - 0s 101us/sample - loss: 1.2272\n",
      "Epoch 29/100\n",
      "200/200 [==============================] - 0s 97us/sample - loss: 1.3768\n",
      "Epoch 30/100\n",
      "200/200 [==============================] - 0s 97us/sample - loss: 1.1956\n",
      "Epoch 31/100\n",
      "200/200 [==============================] - 0s 91us/sample - loss: 1.2823\n",
      "Epoch 32/100\n",
      "200/200 [==============================] - 0s 101us/sample - loss: 1.4700\n",
      "Epoch 33/100\n",
      "200/200 [==============================] - 0s 92us/sample - loss: 1.1642\n",
      "Epoch 34/100\n",
      "200/200 [==============================] - 0s 96us/sample - loss: 1.2022\n",
      "Epoch 35/100\n",
      "200/200 [==============================] - 0s 94us/sample - loss: 1.2077\n",
      "Epoch 36/100\n",
      "200/200 [==============================] - 0s 95us/sample - loss: 1.2407\n",
      "Epoch 37/100\n",
      "200/200 [==============================] - 0s 95us/sample - loss: 1.1784\n",
      "Epoch 38/100\n",
      "200/200 [==============================] - 0s 97us/sample - loss: 1.1099\n",
      "Epoch 39/100\n",
      "200/200 [==============================] - 0s 92us/sample - loss: 1.2499\n",
      "Epoch 40/100\n",
      "200/200 [==============================] - 0s 96us/sample - loss: 1.0901\n",
      "Epoch 41/100\n",
      "200/200 [==============================] - 0s 96us/sample - loss: 1.1201\n",
      "Epoch 42/100\n",
      "200/200 [==============================] - 0s 95us/sample - loss: 1.1625\n",
      "Epoch 43/100\n",
      "200/200 [==============================] - 0s 100us/sample - loss: 1.1761\n",
      "Epoch 44/100\n",
      "200/200 [==============================] - 0s 97us/sample - loss: 0.8874\n",
      "Epoch 45/100\n",
      "200/200 [==============================] - 0s 96us/sample - loss: 1.2418\n",
      "Epoch 46/100\n",
      "200/200 [==============================] - 0s 91us/sample - loss: 1.0957\n",
      "Epoch 47/100\n",
      "200/200 [==============================] - 0s 98us/sample - loss: 1.0473\n",
      "Epoch 48/100\n",
      "200/200 [==============================] - 0s 92us/sample - loss: 1.2140\n",
      "Epoch 49/100\n",
      "200/200 [==============================] - 0s 96us/sample - loss: 1.0238\n",
      "Epoch 50/100\n",
      "200/200 [==============================] - 0s 96us/sample - loss: 0.9040\n",
      "Epoch 51/100\n",
      "200/200 [==============================] - 0s 96us/sample - loss: 1.0385\n",
      "Epoch 52/100\n",
      "200/200 [==============================] - 0s 99us/sample - loss: 0.9974\n",
      "Epoch 53/100\n",
      "200/200 [==============================] - 0s 98us/sample - loss: 0.8711\n",
      "Epoch 54/100\n",
      "200/200 [==============================] - 0s 91us/sample - loss: 0.8603\n",
      "Epoch 55/100\n",
      "200/200 [==============================] - 0s 94us/sample - loss: 1.1257\n",
      "Epoch 56/100\n",
      "200/200 [==============================] - 0s 94us/sample - loss: 0.7475\n",
      "Epoch 57/100\n",
      "200/200 [==============================] - 0s 96us/sample - loss: 0.7425\n",
      "Epoch 58/100\n",
      "200/200 [==============================] - 0s 98us/sample - loss: 0.8648\n",
      "Epoch 59/100\n",
      "200/200 [==============================] - 0s 95us/sample - loss: 0.8684\n",
      "Epoch 60/100\n",
      "200/200 [==============================] - 0s 99us/sample - loss: 0.7509\n",
      "Epoch 61/100\n",
      "200/200 [==============================] - 0s 100us/sample - loss: 0.7533\n",
      "Epoch 62/100\n",
      "200/200 [==============================] - 0s 105us/sample - loss: 0.7048\n",
      "Epoch 63/100\n",
      "200/200 [==============================] - 0s 97us/sample - loss: 0.8413\n",
      "Epoch 64/100\n",
      "200/200 [==============================] - 0s 94us/sample - loss: 0.7077\n",
      "Epoch 65/100\n",
      "200/200 [==============================] - 0s 97us/sample - loss: 0.8178\n",
      "Epoch 66/100\n",
      "200/200 [==============================] - 0s 97us/sample - loss: 0.6323\n",
      "Epoch 67/100\n",
      "200/200 [==============================] - 0s 101us/sample - loss: 0.6807\n",
      "Epoch 68/100\n",
      "200/200 [==============================] - 0s 98us/sample - loss: 0.7179\n",
      "Epoch 69/100\n",
      "200/200 [==============================] - 0s 101us/sample - loss: 0.6131\n",
      "Epoch 70/100\n",
      "200/200 [==============================] - 0s 95us/sample - loss: 0.6411\n",
      "Epoch 71/100\n",
      "200/200 [==============================] - 0s 96us/sample - loss: 0.7388\n",
      "Epoch 72/100\n",
      "200/200 [==============================] - 0s 94us/sample - loss: 0.5863\n",
      "Epoch 73/100\n",
      "200/200 [==============================] - 0s 93us/sample - loss: 0.6892\n",
      "Epoch 74/100\n",
      "200/200 [==============================] - 0s 94us/sample - loss: 0.7506\n",
      "Epoch 75/100\n",
      "200/200 [==============================] - 0s 98us/sample - loss: 0.4781\n",
      "Epoch 76/100\n",
      "200/200 [==============================] - 0s 98us/sample - loss: 0.7540\n",
      "Epoch 77/100\n",
      "200/200 [==============================] - 0s 96us/sample - loss: 0.4990\n",
      "Epoch 78/100\n",
      "200/200 [==============================] - 0s 93us/sample - loss: 0.6844\n",
      "Epoch 79/100\n",
      "200/200 [==============================] - 0s 94us/sample - loss: 0.4642\n",
      "Epoch 80/100\n",
      "200/200 [==============================] - 0s 96us/sample - loss: 0.6131\n",
      "Epoch 81/100\n",
      "200/200 [==============================] - 0s 94us/sample - loss: 0.4278\n",
      "Epoch 82/100\n",
      "200/200 [==============================] - 0s 96us/sample - loss: 0.5426\n",
      "Epoch 83/100\n",
      "200/200 [==============================] - 0s 95us/sample - loss: 0.5918\n",
      "Epoch 84/100\n",
      "200/200 [==============================] - 0s 98us/sample - loss: 0.5245\n",
      "Epoch 85/100\n",
      "200/200 [==============================] - 0s 93us/sample - loss: 0.6379\n",
      "Epoch 86/100\n",
      "200/200 [==============================] - 0s 97us/sample - loss: 0.4623\n",
      "Epoch 87/100\n",
      "200/200 [==============================] - 0s 101us/sample - loss: 0.4278\n",
      "Epoch 88/100\n",
      "200/200 [==============================] - 0s 97us/sample - loss: 0.4466\n",
      "Epoch 89/100\n",
      "200/200 [==============================] - 0s 94us/sample - loss: 0.5939\n",
      "Epoch 90/100\n",
      "200/200 [==============================] - 0s 99us/sample - loss: 0.5417\n",
      "Epoch 91/100\n",
      "200/200 [==============================] - 0s 92us/sample - loss: 0.4557\n",
      "Epoch 92/100\n",
      "200/200 [==============================] - 0s 100us/sample - loss: 0.4287\n",
      "Epoch 93/100\n",
      "200/200 [==============================] - 0s 96us/sample - loss: 0.3318\n",
      "Epoch 94/100\n",
      "200/200 [==============================] - 0s 97us/sample - loss: 0.4128\n",
      "Epoch 95/100\n",
      "200/200 [==============================] - 0s 94us/sample - loss: 0.4029\n"
     ]
    },
    {
     "name": "stdout",
     "output_type": "stream",
     "text": [
      "Epoch 96/100\n",
      "200/200 [==============================] - 0s 94us/sample - loss: 0.4494\n",
      "Epoch 97/100\n",
      "200/200 [==============================] - 0s 95us/sample - loss: 0.5350\n",
      "Epoch 98/100\n",
      "200/200 [==============================] - 0s 102us/sample - loss: 0.3648\n",
      "Epoch 99/100\n",
      "200/200 [==============================] - 0s 99us/sample - loss: 0.3859\n",
      "Epoch 100/100\n",
      "200/200 [==============================] - 0s 97us/sample - loss: 0.3327\n"
     ]
    },
    {
     "data": {
      "text/plain": [
       "<tensorflow.python.keras.callbacks.History at 0x7f18c03141d0>"
      ]
     },
     "execution_count": 9,
     "metadata": {},
     "output_type": "execute_result"
    }
   ],
   "source": [
    "# Fit the model\n",
    "model.fit(train_ds[:,0],train_ds[:,1], epochs=100)"
   ]
  },
  {
   "cell_type": "code",
   "execution_count": 10,
   "metadata": {
    "deletable": false
   },
   "outputs": [
    {
     "name": "stdout",
     "output_type": "stream",
     "text": [
      "MSE Of Train w/ Dropout Rate 0.2 0.15442713795879578\n",
      "MSE Of Test w/ Dropout Rate 0.2 0.2083210852404111\n"
     ]
    }
   ],
   "source": [
    "# evaluate the training and testing performance of your model \n",
    "from sklearn.metrics import mean_squared_error\n",
    "print(\"MSE Of Train w/ Dropout Rate 0.2\",mean_squared_error(train_ds[:,1], model.predict(train_ds[:,0])) )\n",
    "print(\"MSE Of Test w/ Dropout Rate 0.2\",mean_squared_error(test_ds[:,1], model.predict(test_ds[:,0])) )\n"
   ]
  },
  {
   "cell_type": "code",
   "execution_count": 11,
   "metadata": {
    "deletable": false
   },
   "outputs": [
    {
     "data": {
      "text/plain": [
       "<matplotlib.legend.Legend at 0x7f18b809e8d0>"
      ]
     },
     "execution_count": 11,
     "metadata": {},
     "output_type": "execute_result"
    },
    {
     "data": {
      "image/png": "[encoded data removed]",
      "text/plain": [
       "<Figure size 432x288 with 1 Axes>"
      ]
     },
     "metadata": {
      "needs_background": "light"
     },
     "output_type": "display_data"
    },
    {
     "data": {
      "image/png": "[encoded data removed]",
      "text/plain": [
       "<Figure size 432x288 with 1 Axes>"
      ]
     },
     "metadata": {
      "needs_background": "light"
     },
     "output_type": "display_data"
    }
   ],
   "source": [
    "# plot\n",
    "fig, ax = plt.subplots()\n",
    "ax.scatter(train_ds[:, 0], train_ds[:, 1], label=\"Train True\")\n",
    "ax.scatter(train_ds[:, 0], model.predict(train_ds[:,0]), label=\"Train Predicted\")\n",
    "\n",
    "\n",
    "ax.set(xlabel='x', ylabel='y',\n",
    "       title='Train')\n",
    "ax.legend()\n",
    "\n",
    "fig, ax = plt.subplots()\n",
    "ax.scatter(test_ds[:, 0], test_ds[:, 1], label=\"Test True\")\n",
    "ax.scatter(test_ds[:, 0], model.predict(test_ds[:,0]), label=\"Test Predicted\")\n",
    "\n",
    "\n",
    "ax.set(xlabel='x', ylabel='y',\n",
    "       title='Test')\n",
    "ax.legend()\n",
    "\n"
   ]
  },
  {
   "cell_type": "markdown",
   "metadata": {
    "autograde": "1.3",
    "deletable": false,
    "editable": false
   },
   "source": [
    "**1.3** [2 pts] Train the network with dropout of 0.1, do inference for all the test points 10 times in training mode. From the outputs, find the model mean and standard variation. Repeat with dropoout of 0.2.\n"
   ]
  },
  {
   "cell_type": "code",
   "execution_count": 12,
   "metadata": {
    "deletable": false
   },
   "outputs": [
    {
     "data": {
      "text/plain": [
       "<tensorflow.python.keras.callbacks.History at 0x7f18b035c550>"
      ]
     },
     "execution_count": 12,
     "metadata": {},
     "output_type": "execute_result"
    }
   ],
   "source": [
    "# your code here\n",
    "model = Sequential()\n",
    "model.add(Dense(20, input_dim=1, activation='relu'))\n",
    "model.add(Dense(20, activation='relu'))\n",
    "model.add(Dense(20, activation='relu'))\n",
    "model.add(Dropout(rate=0.1, training=True))\n",
    "model.add(Dense(1))\n",
    "model.compile(loss='mean_squared_error', optimizer='adam')\n",
    "model.fit(train_ds[:,0], train_ds[:,1],  epochs=100, verbose=0)\n"
   ]
  },
  {
   "cell_type": "code",
   "execution_count": 13,
   "metadata": {},
   "outputs": [
    {
     "name": "stderr",
     "output_type": "stream",
     "text": [
      "100%|██████████| 80/80 [00:03<00:00, 26.57it/s]\n",
      "100%|██████████| 80/80 [00:02<00:00, 28.98it/s]\n",
      "100%|██████████| 80/80 [00:02<00:00, 26.83it/s]\n",
      "100%|██████████| 80/80 [00:02<00:00, 31.03it/s]\n",
      "100%|██████████| 80/80 [00:02<00:00, 27.69it/s]\n",
      "100%|██████████| 80/80 [00:02<00:00, 26.70it/s]\n",
      "100%|██████████| 80/80 [00:02<00:00, 28.45it/s]\n",
      "100%|██████████| 80/80 [00:02<00:00, 26.78it/s]\n",
      "100%|██████████| 80/80 [00:02<00:00, 31.24it/s]\n",
      "100%|██████████| 80/80 [00:03<00:00, 25.77it/s]\n"
     ]
    }
   ],
   "source": [
    "from tqdm import tqdm\n",
    "predictions = np.zeros((test_ds.shape[0],10))\n",
    "\n",
    "for j in range(10):\n",
    "    for i in tqdm(range(test_ds.shape[0])):\n",
    "        predictions[i,j] =model.predict(test_ds[i,0].reshape(1,1))"
   ]
  },
  {
   "cell_type": "code",
   "execution_count": 14,
   "metadata": {
    "deletable": false
   },
   "outputs": [
    {
     "name": "stderr",
     "output_type": "stream",
     "text": [
      "100%|██████████| 80/80 [00:00<00:00, 23225.88it/s]\n"
     ]
    }
   ],
   "source": [
    "# your code here\n",
    "means_10 = np.zeros((test_ds.shape[0]))\n",
    "stds_10 = np.zeros((test_ds.shape[0]))\n",
    "for i in tqdm(range(test_ds.shape[0])):\n",
    "    means_10[i] = np.mean(predictions[i,:])\n",
    "    stds_10[i] = np.std(predictions[i,:])\n"
   ]
  },
  {
   "cell_type": "code",
   "execution_count": 15,
   "metadata": {},
   "outputs": [
    {
     "data": {
      "text/plain": [
       "<tensorflow.python.keras.callbacks.History at 0x7f17e2eb5dd0>"
      ]
     },
     "execution_count": 15,
     "metadata": {},
     "output_type": "execute_result"
    }
   ],
   "source": [
    "# your code here\n",
    "model = Sequential()\n",
    "model.add(Dense(20, input_dim=1, activation='relu'))\n",
    "model.add(Dense(20, activation='relu'))\n",
    "model.add(Dense(20, activation='relu'))\n",
    "model.add(Dropout(rate=0.2, training=True))\n",
    "model.add(Dense(1))\n",
    "model.compile(loss='mean_squared_error', optimizer='adam')\n",
    "model.fit(train_ds[:,0], train_ds[:,1], epochs=100, verbose=0)\n",
    "\n"
   ]
  },
  {
   "cell_type": "code",
   "execution_count": 16,
   "metadata": {},
   "outputs": [
    {
     "name": "stderr",
     "output_type": "stream",
     "text": [
      "100%|██████████| 80/80 [00:02<00:00, 27.48it/s]\n",
      "100%|██████████| 80/80 [00:02<00:00, 30.03it/s]\n",
      "100%|██████████| 80/80 [00:03<00:00, 25.31it/s]\n",
      "100%|██████████| 80/80 [00:02<00:00, 31.21it/s]\n",
      "100%|██████████| 80/80 [00:02<00:00, 30.67it/s]\n",
      "100%|██████████| 80/80 [00:03<00:00, 22.25it/s]\n",
      "100%|██████████| 80/80 [00:02<00:00, 29.84it/s]\n",
      "100%|██████████| 80/80 [00:02<00:00, 30.31it/s]\n",
      "100%|██████████| 80/80 [00:02<00:00, 30.27it/s]\n",
      "100%|██████████| 80/80 [00:02<00:00, 30.52it/s]\n",
      "100%|██████████| 80/80 [00:00<00:00, 14080.75it/s]\n"
     ]
    }
   ],
   "source": [
    "from tqdm import tqdm\n",
    "predictions = np.zeros((test_ds.shape[0],10))\n",
    "for j in range(10):\n",
    "    for i in tqdm(range(test_ds.shape[0])):\n",
    "        predictions[i,j] =model.predict(test_ds[i,0].reshape(1,1))\n",
    "# your code here\n",
    "means_20 = np.zeros((test_ds.shape[0]))\n",
    "stds_20 = np.zeros((test_ds.shape[0]))\n",
    "for i in tqdm(range(test_ds.shape[0])):\n",
    "    means_20[i] = np.mean(predictions[i,:])\n",
    "    stds_20[i] = np.std(predictions[i,:])\n"
   ]
  },
  {
   "cell_type": "markdown",
   "metadata": {
    "autograde": "1.4",
    "deletable": false,
    "editable": false
   },
   "source": [
    "**1.4** [1 pt] Make a plot of the data, the model, and the uncertainty. Show the model mean and color the region of tow standard deviations.\n"
   ]
  },
  {
   "cell_type": "code",
   "execution_count": 17,
   "metadata": {
    "deletable": false
   },
   "outputs": [
    {
     "data": {
      "text/plain": [
       "[Text(0, 0.5, 'y'), Text(0.5, 0, 'x'), Text(0.5, 1.0, 'Dropout Rate=0.2')]"
      ]
     },
     "execution_count": 17,
     "metadata": {},
     "output_type": "execute_result"
    },
    {
     "data": {
      "image/png": "[encoded data removed]",
      "text/plain": [
       "<Figure size 432x288 with 1 Axes>"
      ]
     },
     "metadata": {
      "needs_background": "light"
     },
     "output_type": "display_data"
    },
    {
     "data": {
      "image/png": "[encoded data removed]",
      "text/plain": [
       "<Figure size 432x288 with 1 Axes>"
      ]
     },
     "metadata": {
      "needs_background": "light"
     },
     "output_type": "display_data"
    }
   ],
   "source": [
    "# plot \n",
    "# your code here\n",
    "fig, ax = plt.subplots()\n",
    "df_10 = pd.DataFrame()\n",
    "df_10['x'] = test_ds[:,0]\n",
    "df_10['mean'] = means_10\n",
    "df_10['std'] = stds_10\n",
    "df_10 = df_10.sort_values(by='x', ascending=True)\n",
    "ax.plot(df_10['x'], df_10['mean'])\n",
    "ax.fill_between(df_10['x'], df_10['mean'] - 2*df_10['std'],df_10['mean'] + 2*df_10['std'],facecolor='yellow', alpha=0.5, label=\"+/- 2 StdDev\")\n",
    "ax.legend()\n",
    "\n",
    "ax.set(xlabel='x', ylabel='y',\n",
    "       title='Dropout Rate=0.1')\n",
    "\n",
    "fig, ax = plt.subplots()\n",
    "df_20 = pd.DataFrame()\n",
    "df_20['x'] = test_ds[:,0]\n",
    "df_20['mean'] = means_20\n",
    "df_20['std'] = stds_20\n",
    "df_20 = df_10.sort_values(by='x', ascending=True)\n",
    "ax.plot(df_20['x'], df_20['mean'])\n",
    "ax.fill_between(df_20['x'], df_20['mean'] - 2*df_20['std'],df_20['mean'] + 2*df_20['std'],facecolor='yellow', alpha=0.5, label=\"+/- 2 StdDev\")\n",
    "ax.legend()\n",
    "\n",
    "ax.set(xlabel='x', ylabel='y',\n",
    "       title='Dropout Rate=0.2')\n"
   ]
  },
  {
   "cell_type": "markdown",
   "metadata": {
    "autograde": "1.5",
    "deletable": false,
    "editable": false
   },
   "source": [
    "**1.5** [2 pts] Turn dropout off (set it to 0) and train 50 models bootstrapping the training data. Doing statistics on the outputs, make a plot of the data, the model, and the uncertainty. Show the model mean and color the region tow standard deviations away, as in **1.3**\n"
   ]
  },
  {
   "cell_type": "code",
   "execution_count": 18,
   "metadata": {
    "deletable": false
   },
   "outputs": [],
   "source": [
    "# define model \n",
    "model = Sequential()\n",
    "model.add(Dense(20, input_dim=1, activation='relu'))\n",
    "model.add(Dense(20, activation='relu'))\n",
    "model.add(Dense(20, activation='relu'))\n",
    "model.add(Dropout(rate=0.0, training=True))\n",
    "model.add(Dense(1))\n",
    "model.compile(loss='mean_squared_error', optimizer='adam')\n"
   ]
  },
  {
   "cell_type": "code",
   "execution_count": 19,
   "metadata": {
    "deletable": false,
    "editable": false
   },
   "outputs": [],
   "source": [
    "# you may need this \n",
    "# from https://github.com/keras-team/keras/issues/341#issuecomment-438347068\n",
    "\n",
    "def reset_weights(model):\n",
    "    for layer in model.layers: \n",
    "        if isinstance(layer, tf.keras.Model):\n",
    "            reset_weights(layer)\n",
    "            continue\n",
    "    for k, initializer in layer.__dict__.items():\n",
    "        if \"initializer\" not in k:\n",
    "            continue\n",
    "        # find the corresponding variable\n",
    "        var = getattr(layer, k.replace(\"_initializer\", \"\"))\n",
    "        var.assign(initializer(var.shape, var.dtype))"
   ]
  },
  {
   "cell_type": "code",
   "execution_count": 20,
   "metadata": {
    "deletable": false
   },
   "outputs": [
    {
     "name": "stderr",
     "output_type": "stream",
     "text": [
      "100%|██████████| 50/50 [03:25<00:00,  4.11s/it]\n"
     ]
    }
   ],
   "source": [
    "# Bootstrap and run model \n",
    "from tqdm import tqdm\n",
    "predictions = np.zeros((test_ds.shape[0],50))\n",
    "for j in tqdm(range(50)):\n",
    "    idx = np.random.randint(0,200,150)\n",
    "    reset_weights(model)\n",
    "    model.fit(train_ds[idx, 0],train_ds[idx, 1],  epochs=100, verbose=0)\n",
    "    for i in range(test_ds.shape[0]):\n",
    "        predictions[i,j] =model.predict(test_ds[i,0].reshape(1,1))\n",
    "\n",
    "\n"
   ]
  },
  {
   "cell_type": "code",
   "execution_count": 21,
   "metadata": {},
   "outputs": [
    {
     "data": {
      "text/plain": [
       "0.20748989620743563"
      ]
     },
     "execution_count": 21,
     "metadata": {},
     "output_type": "execute_result"
    }
   ],
   "source": [
    "np.std(predictions[20,:])"
   ]
  },
  {
   "cell_type": "code",
   "execution_count": 22,
   "metadata": {
    "deletable": false
   },
   "outputs": [
    {
     "name": "stderr",
     "output_type": "stream",
     "text": [
      "100%|██████████| 80/80 [00:00<00:00, 12520.31it/s]\n"
     ]
    }
   ],
   "source": [
    "# your code here \n",
    "means_50 = np.zeros((test_ds.shape[0]))\n",
    "stds_50 = np.zeros((test_ds.shape[0]))\n",
    "for i in tqdm(range(test_ds.shape[0])):\n",
    "    means_50[i] = np.mean(predictions[i,:])\n",
    "    stds_50[i] = np.std(predictions[i,:])"
   ]
  },
  {
   "cell_type": "code",
   "execution_count": 23,
   "metadata": {},
   "outputs": [
    {
     "data": {
      "text/plain": [
       "array([0.44291969, 0.43860732, 0.57501728, 0.73837822, 0.44779957,\n",
       "       0.4371028 , 0.23744156, 0.21674566, 0.12012807, 0.65203676,\n",
       "       0.20248239, 0.17573643, 0.55803584, 0.40596425, 0.45059173,\n",
       "       0.62680291, 0.24668354, 0.3711102 , 0.43825824, 0.48887255,\n",
       "       0.2074899 , 0.35003946, 0.44741222, 0.48285884, 0.2418106 ,\n",
       "       0.45084168, 0.2225568 , 0.47388226, 0.36454382, 0.44859574,\n",
       "       0.18042942, 0.38031957, 0.36601961, 0.40888094, 0.48665582,\n",
       "       0.3375882 , 0.2232399 , 0.31920133, 0.54502818, 0.36381944,\n",
       "       0.19741524, 0.69456286, 0.44752121, 0.30465295, 0.43207105,\n",
       "       0.19423015, 0.18685157, 0.44235964, 0.3728338 , 0.44904103,\n",
       "       0.43329261, 0.45098377, 0.45129653, 0.21474436, 0.34694858,\n",
       "       0.3854436 , 0.4358876 , 0.33309735, 0.16081833, 0.64427125,\n",
       "       0.48863229, 0.31473132, 0.3974407 , 0.44638416, 0.44577475,\n",
       "       0.4467903 , 0.42624856, 0.73631496, 0.34803009, 0.3292043 ,\n",
       "       0.28287265, 0.44463673, 0.42459866, 0.43885424, 0.19847748,\n",
       "       0.4282747 , 0.21885566, 0.33626365, 0.4487094 , 0.17482869])"
      ]
     },
     "execution_count": 23,
     "metadata": {},
     "output_type": "execute_result"
    }
   ],
   "source": [
    "stds_50"
   ]
  },
  {
   "cell_type": "code",
   "execution_count": null,
   "metadata": {
    "deletable": false,
    "editable": false
   },
   "outputs": [],
   "source": []
  },
  {
   "cell_type": "code",
   "execution_count": 24,
   "metadata": {
    "deletable": false
   },
   "outputs": [
    {
     "data": {
      "text/plain": [
       "[Text(0, 0.5, 'y'),\n",
       " Text(0.5, 0, 'x'),\n",
       " Text(0.5, 1.0, '50 Models, Bootstrapped')]"
      ]
     },
     "execution_count": 24,
     "metadata": {},
     "output_type": "execute_result"
    },
    {
     "data": {
      "image/png": "[encoded data removed]",
      "text/plain": [
       "<Figure size 432x288 with 1 Axes>"
      ]
     },
     "metadata": {
      "needs_background": "light"
     },
     "output_type": "display_data"
    }
   ],
   "source": [
    "# plot \n",
    "\n",
    "fig, ax = plt.subplots()\n",
    "df_50 = pd.DataFrame()\n",
    "df_50['x'] = test_ds[:,0]\n",
    "df_50['mean'] = means_20\n",
    "df_50['std'] = stds_20\n",
    "df_50 = df_50.sort_values(by='x', ascending=True)\n",
    "ax.plot(df_50['x'], df_50['mean'])\n",
    "ax.fill_between(df_50['x'], df_50['mean'] - 2*df_50['std'],df_50['mean'] + 2*df_50['std'],facecolor='yellow', alpha=0.5, label=\"+/- 2 StdDev\")\n",
    "ax.legend()\n",
    "\n",
    "ax.set(xlabel='x', ylabel='y',\n",
    "       title='50 Models, Bootstrapped')\n"
   ]
  },
  {
   "cell_type": "markdown",
   "metadata": {
    "autograde": "1.6",
    "deletable": false
   },
   "source": [
    "**1.6** [2 pts] Compare both methods and discuss the pros and cons of each.\n"
   ]
  },
  {
   "cell_type": "markdown",
   "metadata": {
    "deletable": false
   },
   "source": [
    "Dropout is a beneficial practice as it reduces overfitting by omitting a given percentage of weights at each step. However, while reducing overfitting, it may result in Underfitting in situations where there is a complex relationship that relies on nearly all of the weights in a given level to convey. It is however, very computationally inexpensive and can easily be tuned on a per-layer basis by simply changing the dropout percentage. \n",
    "Bootstrapping, meanwhile, can result in a more accurate model, as certain models will omit outlier data points and the ensemble model, depending on the nature of the data, will be more accurate than a single model. However, in creating lots of distinct models, this is WAY more computational expensive, and is much harder to tinker with than dropout. Moreover, depending on the number of bootstrapped samples, you may end up with models which are entirely unrepresentitive of the data as a whole. "
   ]
  },
  {
   "cell_type": "code",
   "execution_count": null,
   "metadata": {
    "deletable": false,
    "editable": false
   },
   "outputs": [],
   "source": []
  },
  {
   "cell_type": "code",
   "execution_count": null,
   "metadata": {},
   "outputs": [],
   "source": []
  }
 ],
 "metadata": {
  "accelerator": "GPU",
  "colab": {
   "name": "cs109b-hw3_finalDraft.ipynb",
   "provenance": [],
   "version": "0.3.2"
  },
  "kernelspec": {
   "display_name": "python3",
   "language": "python",
   "name": "python3"
  },
  "language_info": {
   "codemirror_mode": {
    "name": "ipython",
    "version": 3
   },
   "file_extension": ".py",
   "mimetype": "text/x-python",
   "name": "python",
   "nbconvert_exporter": "python",
   "pygments_lexer": "ipython3",
   "version": "3.7.4"
  }
 },
 "nbformat": 4,
 "nbformat_minor": 4
}
